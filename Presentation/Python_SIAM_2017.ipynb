{
 "cells": [
  {
   "cell_type": "code",
   "execution_count": 1,
   "metadata": {
    "collapsed": true,
    "slideshow": {
     "slide_type": "skip"
    }
   },
   "outputs": [],
   "source": [
    "from IPython.display import HTML\n",
    "from IPython.display import Image"
   ]
  },
  {
   "cell_type": "markdown",
   "metadata": {
    "slideshow": {
     "slide_type": "slide"
    }
   },
   "source": [
    "## IISc-SIAM Student Chapter\n",
    "\n",
    "# Python Programming Workshop\n",
    "\n",
    "### 7th and 8th October 2017\n",
    "\n",
    "<img src=\"images/IISc_logo.jpg\" alt=\"IISc Logo\" height=\"400\" width=\"400\">\n",
    "\n",
    "Arun Prasaad Gunasekaran\n",
    "\n",
    "Centre for Atmospheric and Oceanic Sciences, Indian Institute of Science.\n",
    "\n",
    "__*Volunteers : Mahesh Nayak, Ali Hasan Siddiqui, Aditya Bakshi*__"
   ]
  },
  {
   "cell_type": "markdown",
   "metadata": {
    "slideshow": {
     "slide_type": "slide"
    }
   },
   "source": [
    "# Overview of Workshop\n",
    "---\n",
    "\n",
    "* Sessions of Demo + Class + Hands-on\n",
    "* Practice sessions based on contents\n",
    "* Laptops Complusory!\n"
   ]
  },
  {
   "cell_type": "markdown",
   "metadata": {
    "slideshow": {
     "slide_type": "slide"
    }
   },
   "source": [
    "# Benefits of these Sessions\n",
    "---"
   ]
  },
  {
   "cell_type": "markdown",
   "metadata": {
    "slideshow": {
     "slide_type": "fragment"
    }
   },
   "source": [
    "* **Short term benefits:**\n",
    "    * Useful for Assignments (First Years)\n",
    "    * Learning programming in a simpler way\n",
    "    * Serves as an Icebreak to smoothen the class-to-research/application transition\n",
    "    * Gaining comfort and confidence\n",
    "    * Have a tool to solve simple and complex problems\n",
    "  "
   ]
  },
  {
   "cell_type": "markdown",
   "metadata": {
    "slideshow": {
     "slide_type": "fragment"
    }
   },
   "source": [
    "  \n",
    "* **Long term benefits:**\n",
    "    * Skills are directly applicable in research\n",
    "    * Helpful to cut-down pre-research timing (Finding fixes, looking for solutions etc.,)\n",
    "    * You have a solid foundation to proceed further\n",
    "    * You can almost all the fundamental tools\n",
    "    \n",
    "All the examples here are chosen carefully so that you all get a broad exposure to a variety of programming tools and useful functions and libraries."
   ]
  },
  {
   "cell_type": "markdown",
   "metadata": {
    "slideshow": {
     "slide_type": "slide"
    }
   },
   "source": [
    "# Why Python? - Funny Note"
   ]
  },
  {
   "cell_type": "markdown",
   "metadata": {
    "slideshow": {
     "slide_type": "fragment"
    }
   },
   "source": [
    "<img src=\"images/python.png\" height=\"600\" width=\"600\">\n",
    "\n",
    "Source: http://xkcd.com/353/"
   ]
  },
  {
   "cell_type": "markdown",
   "metadata": {
    "slideshow": {
     "slide_type": "slide"
    }
   },
   "source": [
    "# Why Python? - Serious note\n",
    "---\n",
    "\n",
    "* Free, open source, cross platform\n",
    "* __Object Oriented__, __modern__, **interpreted** Programming Language\n",
    "* Very flexible and has a wide variety of features\n",
    "* Little overhead and pre-requisite\n",
    "* Easy access to work with Unix/Linux Shells\n",
    "* One great choice to learn programming from scratch to advanced levels\n",
    "* Very friendly, **intuitive** and **humane**\n",
    "* Can combine this with other programming languages\n",
    "* Plotting and visualization tools (1D, 2D, 3D) are great\n",
    "* Can be used for making GUI apps, OS, web frame works etc.,\n",
    "* Most importantly, you get to avoid **Software Piracy Issues**"
   ]
  },
  {
   "cell_type": "markdown",
   "metadata": {
    "slideshow": {
     "slide_type": "slide"
    }
   },
   "source": [
    "# Is Python absolutely advantageous?\n",
    "---\n",
    "**No!**\n",
    "Beacuse no programming language is perfect.\n",
    "Then why to choose Python?,\n",
    "\n",
    "* You love programming in general and want to explore a lot,\n",
    "* You like the language,\n",
    "* You want to do a variety of programming with a single main language,\n",
    "    * eg: Webcrawling, Machine Learning, Data Analysis, Software development, Web development etc.,\n",
    "* Not many licensing restrictions,\n",
    "* Work demands,\n",
    "\n",
    "Bottom line : Python is good, but not undisputed.\n",
    "\n",
    "Other programming languages that are good (worth experimenting in Earth related Sciences) : R, Matlab, Fortran, C, C++, Grads, NCL, IDL, Ferret, CDAT (and Versions)"
   ]
  },
  {
   "cell_type": "markdown",
   "metadata": {
    "slideshow": {
     "slide_type": "slide"
    }
   },
   "source": [
    "## Python Versions\n",
    "---\n",
    "\n",
    "Python comes in two broad versions:\n",
    "\n",
    "* Python 2\n",
    "* Python 3\n",
    "\n",
    "Python 2 is the older version. Stable, tested and has a lot of libraries build based on it.\n",
    "Python 3 is the newer version. Developing, considerably tested and some libraries are yet to be built on it.\n",
    "\n",
    "Which to choose? As of now, choose Python 3. If a majority of your libraries are yet to be made in Python 3, then stick to Python 2, but get ready to transition to Python 3.\n",
    "\n",
    "** Python 2 and Python 3 are not completely compatible!**. Some programs written in Python 2 will throw errors in Python 3 (and vice-versa) because of **Different internal architectures**. **So, do not mix and match syntax!**\n",
    "\n",
    "Python 3 started to get promoted. We are in a transition time. After few years, Python 2 will be dropped out from support.\n",
    "\n",
    "We will use Python 3 version."
   ]
  },
  {
   "cell_type": "markdown",
   "metadata": {
    "slideshow": {
     "slide_type": "slide"
    }
   },
   "source": [
    "## Topics covered in these sessions\n",
    "\n",
    "#### Session 1\n",
    "Installation of Python, (different methods), Intro to the language, programming structure, Basic aspects of the language: comments, inputs, variables, list, tuples, dictionaries, mutation, if-construct, loops, operators, typecasting, built-in functions, modules; using python terminal, simple data slicing, numpy arrays, and some hands-on  in writing programs.\n",
    "\n",
    "#### Session 2:\n",
    "Writing some simple programs, using NumPy, SciPy, Matplotlib functions for handling data,  plot animation, running calculations and plotting.\n",
    "\n",
    "#### Session 3:\n",
    "Installing python packages, symbolic operations, numerical integration, fft, ifft, solving system of ODE's using in-built commands and writing our own functions.\n",
    "\n",
    "#### Session 4: (Only Demo)\n",
    "Introduction to Jupyter Notebooks, writing code and Markdown (basics). Demonstrations of f2py, cython, mpi4py, and Numba, Details of other important libraries/modules such as Pandas, Django, windspharm, seaborn, etc., \"PEP 8\" conventions, \"Zen of Python\", links to documentations, and finally, some closing remarks,\n",
    "\n"
   ]
  },
  {
   "cell_type": "markdown",
   "metadata": {
    "slideshow": {
     "slide_type": "slide"
    }
   },
   "source": [
    "## We are not going to look at\n",
    "\n",
    "* Object oriented programming - too advanced and takes time,\n",
    "* Regular expressions, abstractions etc.,\n",
    "* Computer science related programming - web scrapping, image manipulation etc.,\n",
    "\n",
    "**We will be sticking purely to Scientific and Computational Programming**"
   ]
  },
  {
   "cell_type": "markdown",
   "metadata": {
    "slideshow": {
     "slide_type": "fragment"
    }
   },
   "source": [
    "## Notes, Slides, Programs\n",
    "\n",
    "Download this repository in github!\n",
    "\n",
    "https://github.com/arunprasaad2711/Python_IISC_SIAM_2017"
   ]
  },
  {
   "cell_type": "markdown",
   "metadata": {
    "slideshow": {
     "slide_type": "slide"
    }
   },
   "source": [
    "## Installing Python\n",
    "\n",
    "* In Unix/Linux - Already installed!\n",
    "    * Python is used for building software so it comes by default\n",
    "* In MacOS and Windows\n",
    "    * Needs to be installed"
   ]
  },
  {
   "cell_type": "markdown",
   "metadata": {
    "slideshow": {
     "slide_type": "fragment"
    }
   },
   "source": [
    "### Easy Way\n",
    "---\n",
    "\n",
    "* Use Anaconda or Enthought Installers\n",
    "    * Installs a separate version of Python. Thus does not interfere with system python\n",
    "    * Maintaining multiple versions/environments is easy\n",
    "    * Can be uninstalled, upgraded, downgraded easily\n",
    "    * Installing, uninstalling, updating, packages/libraries is easy.\n",
    "    \n",
    "**We will be using the Anaconda installer**"
   ]
  },
  {
   "cell_type": "markdown",
   "metadata": {
    "slideshow": {
     "slide_type": "fragment"
    }
   },
   "source": [
    "### Moderately difficult way\n",
    "---\n",
    "\n",
    "* Using software repositories (\\*.whl files in Windows. \\*.deb files in Debian/Ubuntu)\n",
    "* Using pip installer\n",
    "    * Conflicts might happen with package installations and thus some programs can crash due to difference in versions.\n",
    "    * Dependencies might not get installed\n",
    "    * Maintaining different environments is difficult - not suitable for beginners"
   ]
  },
  {
   "cell_type": "markdown",
   "metadata": {
    "slideshow": {
     "slide_type": "fragment"
    }
   },
   "source": [
    "### Hard way\n",
    "---\n",
    "\n",
    "* Manually compile and install all the libraries from source\n",
    "* Tedious, laborious - not at all recommended unless your requirement demands"
   ]
  },
  {
   "cell_type": "markdown",
   "metadata": {
    "slideshow": {
     "slide_type": "slide"
    }
   },
   "source": [
    "## Installation"
   ]
  },
  {
   "cell_type": "markdown",
   "metadata": {
    "slideshow": {
     "slide_type": "fragment"
    }
   },
   "source": [
    "* Find your OS and bit technology"
   ]
  },
  {
   "cell_type": "markdown",
   "metadata": {
    "slideshow": {
     "slide_type": "fragment"
    }
   },
   "source": [
    "* In Windows, this can be found in your system properties\n",
    "<img src=\"images/windows_type_win10.png\" height=\"600\" width=\"600\">\n",
    "<img src=\"images/windows_type_win7.png\" height=\"600\" width=\"600\">"
   ]
  },
  {
   "cell_type": "markdown",
   "metadata": {
    "slideshow": {
     "slide_type": "fragment"
    }
   },
   "source": [
    "* In Unix/Linux, type any one of the commands in the terminal\n",
    "\n",
    "```\n",
    "file /sbin/init \n",
    "file /lib/systemd/systemd \n",
    "```\n",
    "\n",
    "For example:\n",
    "```\n",
    "arun@hpdv6:~/Python_SIAM_2017/Presentation$ file /sbin/init\n",
    "/sbin/init: symbolic link to /lib/systemd/systemd\n",
    "arun@hpdv6:~/Python_SIAM_2017/Presentation$ file /lib/systemd/systemd\n",
    "/lib/systemd/systemd: ELF 64-bit LSB shared object, x86-64, version 1 (SYSV), dynamically linked, interpreter /lib64/ld-linux-x86-64.so.2, for GNU/Linux 2.6.32, BuildID[sha1]=2210e03325af77b305880eb72d89a29617fc3518, stripped\n",
    "\n",
    "```"
   ]
  },
  {
   "cell_type": "markdown",
   "metadata": {
    "slideshow": {
     "slide_type": "fragment"
    }
   },
   "source": [
    "* Go to https://www.anaconda.com/download/ and download the installer depending on the OS type and system's bit technology. (Python 3.6 Windows/Linux/MacOS 32/64 bit installer)"
   ]
  },
  {
   "cell_type": "markdown",
   "metadata": {
    "slideshow": {
     "slide_type": "fragment"
    }
   },
   "source": [
    "#### For Windows and MacOS users\n",
    "\n",
    "* Proceed with the installation as you would normally do. Select the option to add Python to system path.\n",
    "\n",
    "#### For Linux users\n",
    "\n",
    "* Type the following commands\n",
    "\n",
    "```\n",
    "chmod 755 Anaconda3xxxxxxxxxx.sh\n",
    "bash Anaconda3xxxxxxxxxx.sh\n",
    "```\n",
    "\n",
    "* Proceed with the installation, press yes to agree the license agreement, set a path to install the software, press enter to add lines to .bashrc file.\n",
    "* Once done, reopen the terminal."
   ]
  },
  {
   "cell_type": "markdown",
   "metadata": {
    "slideshow": {
     "slide_type": "slide"
    }
   },
   "source": [
    "## About Anaconda Python Distribution\n",
    "\n",
    "* An independent Python installer - this python does not interfere with the system python\n",
    "* Maintains and installs all the requirements\n",
    "* Comes with Spyder (a MATLAB like IDE for Python), Jupyter Console (A graphics embeddable Python Terminal), IPython Terminal (A much fancier and sophisticated Python terminal), Jupyter Notebook (Web browser based GUI to do calculations, run code snippets, write notes, and to even make presentations like this one! :) )\n",
    "* Has a wide variety of pre-installed libraries\n",
    "* Has the conda installer\n",
    "\n",
    "## About Miniconda\n",
    "\n",
    "* It is a minimal version of Python Distribution (conda installer, Python , core python libraries)\n"
   ]
  },
  {
   "cell_type": "markdown",
   "metadata": {
    "slideshow": {
     "slide_type": "slide"
    }
   },
   "source": [
    "## So, what to look for in any programming language?\n",
    "\n",
    "- Basic data types, data conversions,\n",
    "- Variables, constants, sizes, precisions\n",
    "- Operators,\n",
    "- Input/Output statements,\n",
    "- Data formatting\n",
    "- Loops and decision making statements,\n",
    "- Advanced data types like arrays, pointers, derived data types,\n",
    "- Functions, Subroutines,\n",
    "- Handling data files,\n",
    "- Objects, classes,\n",
    "- External libraries/packages/modules\n",
    "- Executing multiple files simultaneously\n",
    "- Plotting and visualization facility,"
   ]
  },
  {
   "cell_type": "markdown",
   "metadata": {
    "collapsed": true,
    "slideshow": {
     "slide_type": "fragment"
    }
   },
   "source": [
    " # So, are you all ready ?!"
   ]
  },
  {
   "cell_type": "markdown",
   "metadata": {
    "collapsed": true,
    "slideshow": {
     "slide_type": "slide"
    }
   },
   "source": [
    "# Session 1"
   ]
  },
  {
   "cell_type": "markdown",
   "metadata": {
    "slideshow": {
     "slide_type": "fragment"
    }
   },
   "source": [
    "*_ Definitions, Programming basics, syntax, data types, functions _*"
   ]
  },
  {
   "cell_type": "markdown",
   "metadata": {
    "slideshow": {
     "slide_type": "skip"
    }
   },
   "source": [
    "## Preliminary Settings\n",
    "\n",
    "- Go to Spyder > Tools > Preferences > Ipython Console > Graphics\n",
    "- Select Activate support\n",
    "- Set backend to Qt or Tkinter (Qt)\n",
    "- Got to Advanced Settings\n",
    "- Select Greedy Completer\n",
    "- Press apply and ok.\n",
    "- Go to the ipython console and type \\% matplotlib qt (This is for making plots come as a separate window)\n",
    "- Set the Working Directory in the File Explorer\n",
    "- Copy the path of the Working Directory\n",
    "- type cd (in the ipython console) and paste the path and enter\n",
    "- Keep cursor near any command and press Ctrl+I for documentation."
   ]
  },
  {
   "cell_type": "markdown",
   "metadata": {
    "slideshow": {
     "slide_type": "fragment"
    }
   },
   "source": [
    "Open up a Text Editor and save a file with the extension .py"
   ]
  },
  {
   "cell_type": "markdown",
   "metadata": {
    "slideshow": {
     "slide_type": "slide"
    }
   },
   "source": [
    "# A Sample Python Program\n",
    "----\n",
    "\n",
    "```python\n",
    "# This is a single line comment\n",
    "\"\"\"\n",
    "    Program to find the factorial of a number.\n",
    "\tThis is also a docstring or a document string\n",
    "\"\"\"\n",
    "n = input(\"Enter a positive integer\") # To get user input data\n",
    "f = 1                                 # To initialize the fact value\n",
    "if n is (1 or 0):                     # To check if n is 0 or 1\n",
    "    exit                              # To exit the if statement\n",
    "else:                                 # To proceed further\n",
    "    for i in range(2, n+1):           # To start a loop from 2 to n.\n",
    "        f = f*i                       # Also written as f *= i\n",
    "print(\"The value of {}! is {}\".format(n, f))\n",
    "```"
   ]
  },
  {
   "cell_type": "markdown",
   "metadata": {
    "slideshow": {
     "slide_type": "slide"
    }
   },
   "source": [
    "# Comments\n",
    "---\n",
    "\n",
    "Comment - Lines that are ignored when the program is run. Used for excluding codes and for including messages.\n",
    "```python\n",
    "\n",
    "# This is a single line comment\n",
    "# Comment begins with a hash # symbol\n",
    "\n",
    "```\n",
    "Docstrings - Document strings. Multi-line comments. But more useful for including help/direction messages that appear when help utilities are called.\n",
    "```python\n",
    "\"\"\"\n",
    "    This is a Docstring. It starts and ends with \n",
    "    triple \" or triple ' quotes. Mix and match does not work!\n",
    "\"\"\"\n",
    "```"
   ]
  },
  {
   "cell_type": "markdown",
   "metadata": {
    "slideshow": {
     "slide_type": "subslide"
    }
   },
   "source": [
    "# Input Command\n",
    "---\n",
    "\n",
    "Input command - Used for getting input from user to a variable.\n",
    "```python\n",
    "n = input('Enter the value for n') # Dynamic input\n",
    "n = float(input('Enter the value for n')) # Type casted input\n",
    "```\n",
    "\n",
    "* Dynamic input analyses the data and assumes data type automatically.\n",
    "* Type casting is used to control data types."
   ]
  },
  {
   "cell_type": "markdown",
   "metadata": {
    "slideshow": {
     "slide_type": "subslide"
    }
   },
   "source": [
    "# Primary Variable Types\n",
    "---\n",
    "\n",
    "These are the standard variables and primary data types.\n",
    "\n",
    "```python\n",
    "\n",
    "i = 1 # Integer. Stores integers\n",
    "r = 5.78 # Floats. Stores numbers with decimal parts.\n",
    "c = 'h' # Characters. Stores single characters\n",
    "s = 'Strings' # Strings. Stores a series of characters\n",
    "l = True/False # Logical. Stores binary values\n",
    "cm = 6.0+5.6j  # Complex. Stores complex values\n",
    "    \n",
    "```\n",
    "\n",
    "Strings and characters use both single and double quotes, but must end accordingly. Use slash to place quotes if needed.\n",
    "\n",
    "```python\n",
    "\n",
    "\"Hello\", 'Hello', 'My name is Arun', \"I asked, 'what is for lunch?'\"\n",
    "'I exclaimed, \"This tree is big!\"'\n",
    "\"I used slash \\\" to type a double quote symbol\"\n",
    "\n",
    "```"
   ]
  },
  {
   "cell_type": "markdown",
   "metadata": {
    "slideshow": {
     "slide_type": "subslide"
    }
   },
   "source": [
    "# Primary Variable Types\n",
    "\n",
    "A variable in python can have any data type. It can be modified at any level to have a new data type. This is because variables are actually \"objects\" in python."
   ]
  },
  {
   "cell_type": "code",
   "execution_count": 2,
   "metadata": {
    "slideshow": {
     "slide_type": "fragment"
    }
   },
   "outputs": [
    {
     "name": "stdout",
     "output_type": "stream",
     "text": [
      "1.5 140048331680624 <class 'float'>\n",
      "hello 140048284573232 <class 'str'>\n",
      "5 140048501217856 <class 'int'>\n",
      "True 140048500811040 <class 'bool'>\n",
      "(6+7.8j) 140048284294832 <class 'complex'>\n",
      "[7, 8.9, 10] 140048284073544 <class 'list'>\n",
      "(5.2, 4, 12) 140048284133416 <class 'tuple'>\n",
      "{'v1': 6, 'v2': 10} 140048284066872 <class 'dict'>\n"
     ]
    }
   ],
   "source": [
    "a = 1.5     # Float/Real\n",
    "print(a, id(a), type(a))\n",
    "a = \"hello\" # String/Character\n",
    "print(a, id(a), type(a))\n",
    "a = 5       # Integer\n",
    "print(a, id(a), type(a))\n",
    "a = True    # Logical\n",
    "print(a, id(a), type(a))\n",
    "a = 6.0+7.8j    # Complex\n",
    "print(a, id(a), type(a))\n",
    "a = [7, 8.9, 10] # List\n",
    "print(a, id(a), type(a))\n",
    "a = (5.2, 4, 12) # Tuple\n",
    "print(a, id(a), type(a))\n",
    "a = {'v1': 6, 'v2' : 10} # Dictionary\n",
    "print(a, id(a), type(a))"
   ]
  },
  {
   "cell_type": "markdown",
   "metadata": {
    "slideshow": {
     "slide_type": "subslide"
    }
   },
   "source": [
    "# Operators\n",
    "---\n",
    "\n",
    "```python\n",
    "a + b                  # Addition\n",
    "a - b                  # Subtraction\n",
    "a * b                  # Multiplication\n",
    "a / b                  # Division\n",
    "a += b # a = a+b       # Increment addition\n",
    "a *= b # -=, /= exists # Increment multiplication\n",
    "a ** b                 # Exponent\n",
    "()                     # Parenthesis\n",
    "a % b                  # Modulo Operation\n",
    "<\t                   # strictly less than\t \n",
    "<=\t                   # less than or equal\t \n",
    ">\t                   # strictly greater than\t \n",
    ">=\t                   # greater than or equal\t \n",
    "==\t                   # equal\t \n",
    "!=\t                   # not equal\n",
    "or, and, not           # Logical Operators\n",
    "is, is not             # Identity Operators\n",
    "in, not in             # Membership Operators\n",
    "```\n",
    "There are many more! Remember UPEMDAS REL LOG"
   ]
  },
  {
   "cell_type": "markdown",
   "metadata": {
    "slideshow": {
     "slide_type": "subslide"
    }
   },
   "source": [
    "# Lists\n",
    "---\n",
    "\n",
    "__Mutable__, multi-datatype arrays. Can be single levelled or multi-levelled. Enclosed by [].\n",
    "\n",
    "```python\n",
    "x = [1, 3, 5, 7, 8]\n",
    "y = [1.5, 5, 8.94, -5.78]\n",
    "z = [1, 'f', True, [6.45, \"six\"], False ]\n",
    "l = [ 1, 3.5, 'a', \"hello\", ['34', 3.14, [\"three\"], 4], 4.21 ]\n",
    "```\n",
    "\n",
    "They allow lists within lists. Indexing goes from 0."
   ]
  },
  {
   "cell_type": "code",
   "execution_count": 3,
   "metadata": {
    "slideshow": {
     "slide_type": "fragment"
    }
   },
   "outputs": [
    {
     "name": "stdout",
     "output_type": "stream",
     "text": [
      "x =  [1, 3, 5, 7, 8]\n",
      "y =  [1.5, 5, 8.94, -5.78]\n",
      "z =  [1, 'f', True, [6.45, 'six'], False]\n",
      "l =  [1, 3.5, 'a', 'hello', ['34', 3.14, ['three'], 4], 4.21]\n",
      "1\n",
      "8\n",
      "six\n",
      "three\n"
     ]
    }
   ],
   "source": [
    "x = [1, 3, 5, 7, 8]\n",
    "y = [1.5, 5, 8.94, -5.78]\n",
    "z = [1, 'f', True, [6.45, \"six\"], False ]\n",
    "l = [ 1, 3.5, 'a', \"hello\", ['34', 3.14, [\"three\"], 4], 4.21 ]\n",
    "print(\"x = \",x)\n",
    "print(\"y = \",y)\n",
    "print(\"z = \",z)\n",
    "print(\"l = \",l)\n",
    "print(x[0])\n",
    "print(x[4])\n",
    "#print(y[4]) # This will throw an error: IndexError: list index out of range\n",
    "print(z[3][1])\n",
    "print(l[4][2][0])"
   ]
  },
  {
   "cell_type": "markdown",
   "metadata": {
    "slideshow": {
     "slide_type": "subslide"
    }
   },
   "source": [
    "# Tuples\n",
    "----\n",
    "\n",
    "__Immutable__, multi-datatype arrays. Can be single levelled or multi-levelled. Enclosed by ().\n",
    "\n",
    "```python\n",
    "x = (1, 3, 5, 7, 8)\n",
    "y = (1.5, 5, 8.94, -5.78)\n",
    "z = (1, 'f', True, (6.45, \"six\"), False )\n",
    "l = ( 1, 3.5, 'a', \"hello\", ('34', 3.14, (\"three\"), 4), 4.21 )\n",
    "```\n",
    "\n",
    "They allow tuples within tuples. Indexing goes from 0."
   ]
  },
  {
   "cell_type": "code",
   "execution_count": 4,
   "metadata": {
    "slideshow": {
     "slide_type": "fragment"
    }
   },
   "outputs": [
    {
     "name": "stdout",
     "output_type": "stream",
     "text": [
      "x =  (1, 3, 5, 7, 8)\n",
      "y =  (1.5, 5, 8.94, -5.78)\n",
      "z =  (1, 'f', True, (6.45, 'six'), False)\n",
      "l =  (1, 3.5, 'a', 'hello', ('34', 3.14, 'three', 4), 4.21)\n",
      "1\n",
      "8\n",
      "six\n",
      "three\n"
     ]
    }
   ],
   "source": [
    "x = (1, 3, 5, 7, 8)\n",
    "y = (1.5, 5, 8.94, -5.78)\n",
    "z = (1, 'f', True, (6.45, \"six\"), False )\n",
    "l = ( 1, 3.5, 'a', \"hello\", ('34', 3.14, (\"three\"), 4), 4.21 )\n",
    "print(\"x = \",x)\n",
    "print(\"y = \",y)\n",
    "print(\"z = \",z)\n",
    "print(\"l = \",l)\n",
    "print(x[0])\n",
    "print(x[4])\n",
    "#print(y[4] # This will throw an error: IndexError: tuple index out of range\n",
    "print(z[3][1])\n",
    "print(l[4][2])"
   ]
  },
  {
   "cell_type": "markdown",
   "metadata": {
    "collapsed": true,
    "slideshow": {
     "slide_type": "subslide"
    }
   },
   "source": [
    "# Mutation\n",
    "Since variables are objects in python, sometimes, multiple variables point to the \n",
    "same memory location. Sometimes, certain memory modifications done to one \n",
    "variable replicates in others (Mutable). Sometimes they do not (Immutable)."
   ]
  },
  {
   "cell_type": "code",
   "execution_count": 5,
   "metadata": {
    "slideshow": {
     "slide_type": "fragment"
    }
   },
   "outputs": [
    {
     "name": "stdout",
     "output_type": "stream",
     "text": [
      "[4.5, 6.7, 1] [4.5, 6.7, 1]\n",
      "(4.5, 6.7) (4.5, 6.7)\n"
     ]
    }
   ],
   "source": [
    "x = [4.5, 6.7]\n",
    "y = x\n",
    "x.append(1)\n",
    "print(x, y)\n",
    "\n",
    "x = (4.5, 6.7)\n",
    "y = x\n",
    "# x.append(1) # Produces an error: tuple' object has no attribute 'append'\n",
    "print(x, y)"
   ]
  },
  {
   "cell_type": "markdown",
   "metadata": {
    "slideshow": {
     "slide_type": "subslide"
    }
   },
   "source": [
    "## Exception\n",
    "---\n",
    "\n",
    "However, switching data and mutation do not cause any issue."
   ]
  },
  {
   "cell_type": "code",
   "execution_count": 6,
   "metadata": {
    "slideshow": {
     "slide_type": "fragment"
    }
   },
   "outputs": [
    {
     "name": "stdout",
     "output_type": "stream",
     "text": [
      "[4.5, 6.7] [7.8, 9.6]\n",
      "(4.5, 6.7) (7.8, 9.6)\n"
     ]
    }
   ],
   "source": [
    "x = [4.5, 6.7]\n",
    "y = x\n",
    "y = [7.8, 9.6]\n",
    "print(x, y)\n",
    "\n",
    "x = (4.5, 6.7)\n",
    "y = x\n",
    "y = (7.8, 9.6)\n",
    "print(x, y)"
   ]
  },
  {
   "cell_type": "markdown",
   "metadata": {
    "slideshow": {
     "slide_type": "fragment"
    }
   },
   "source": [
    "Still, there is a problem with list and tuples. They are heterogeneous data arrays. We need homogeneous data arrays for scientific calculations. That is where __numpy arrays__ come in handy."
   ]
  },
  {
   "cell_type": "markdown",
   "metadata": {
    "slideshow": {
     "slide_type": "subslide"
    }
   },
   "source": [
    "# Dictionary\n",
    "---\n",
    "\n",
    "A composite collection of different primary and derived data types. __Imagine a wallet/bag having several items as an example__. Has __keys__ and corresponding __values__. Keys are the names/identifiers while values are the data. (Lists, tuples, arrays, integers, floats etc.,). Used for consolidating data into files."
   ]
  },
  {
   "cell_type": "code",
   "execution_count": 7,
   "metadata": {
    "slideshow": {
     "slide_type": "fragment"
    }
   },
   "outputs": [
    {
     "name": "stdout",
     "output_type": "stream",
     "text": [
      "{'v1': 6, 'v2': 10, 'lst': [5.8, 'hello']}\n",
      "6\n",
      "[5.8, 'hello']\n",
      "hello\n"
     ]
    }
   ],
   "source": [
    "a = {'v1':6, 'v2':10, 'lst': \\\n",
    "    [5.8, \"hello\"]}\n",
    "print(a)\n",
    "print(a['v1'])\n",
    "print(a['lst'])\n",
    "print(a['lst'][1])"
   ]
  },
  {
   "cell_type": "markdown",
   "metadata": {
    "slideshow": {
     "slide_type": "subslide"
    }
   },
   "source": [
    "# Type Casting\n",
    "---\n",
    "Used for data conversion. Also used to avoid mutation. Restriction of data entry is also possible."
   ]
  },
  {
   "cell_type": "code",
   "execution_count": 8,
   "metadata": {
    "scrolled": true,
    "slideshow": {
     "slide_type": "fragment"
    }
   },
   "outputs": [
    {
     "name": "stdout",
     "output_type": "stream",
     "text": [
      "5 <class 'int'>\n",
      "5.0 <class 'float'>\n",
      "\u0005 <class 'str'>\n",
      "5 <class 'str'>\n",
      "True <class 'bool'>\n",
      "[5, 7.9, 3.4] <class 'list'>\n",
      "(5, 7.9, 3.4) <class 'tuple'>\n",
      "[ 5.   7.9  3.4] <class 'numpy.ndarray'>\n"
     ]
    }
   ],
   "source": [
    "import numpy as np\n",
    "a = 5\n",
    "b = [5, 7.9, 3.4]\n",
    "print(int(a), type(int(a)))           \n",
    "print(float(a), type(float(a)))       \n",
    "print(chr(a), type(chr(a)))          \n",
    "print(str(a), type(str(a)))          \n",
    "print(bool(a), type(bool(a)))        \n",
    "print(list(b), type(list(b)))         \n",
    "print(tuple(b), type(tuple(b)))       \n",
    "print(np.array(b), type(np.array(b)))"
   ]
  },
  {
   "cell_type": "markdown",
   "metadata": {
    "slideshow": {
     "slide_type": "subslide"
    }
   },
   "source": [
    "# Numpy Arrays\n",
    "---\n",
    "\n",
    "Comes from a module numpy. Homogeneous data type array. Automatically assumes data type. But can be manually set too. Needs numpy module. Inputs can be lists or tuples."
   ]
  },
  {
   "cell_type": "code",
   "execution_count": 9,
   "metadata": {
    "slideshow": {
     "slide_type": "fragment"
    }
   },
   "outputs": [
    {
     "name": "stdout",
     "output_type": "stream",
     "text": [
      "<class 'list'>\n",
      "<class 'tuple'>\n",
      "<class 'numpy.ndarray'>\n",
      "<class 'numpy.ndarray'>\n",
      "int64\n",
      "float64\n"
     ]
    }
   ],
   "source": [
    "import numpy as np\n",
    "l = [5, 7, 9]\n",
    "t = (5, 7, 9.7)\n",
    "a = np.array(l)\n",
    "b = np.array(t)\n",
    "print(type(l))\n",
    "print(type(t))\n",
    "print(type(a))\n",
    "print(type(b))\n",
    "print(np.dtype(a[2]))\n",
    "print(np.dtype(b[1]))"
   ]
  },
  {
   "cell_type": "markdown",
   "metadata": {
    "slideshow": {
     "slide_type": "fragment"
    }
   },
   "source": [
    "As you see, the data types are allocated automatically. Use __dtype__ inside __np.array__ to set the data type manually.\n",
    "```python\n",
    "a = np.array(l, dtype=np.float32)\n",
    "```"
   ]
  },
  {
   "cell_type": "markdown",
   "metadata": {
    "slideshow": {
     "slide_type": "slide"
    }
   },
   "source": [
    "# For and While loops\n",
    "---"
   ]
  },
  {
   "cell_type": "code",
   "execution_count": 10,
   "metadata": {
    "slideshow": {
     "slide_type": "fragment"
    }
   },
   "outputs": [
    {
     "name": "stdout",
     "output_type": "stream",
     "text": [
      "0\n",
      "2\n",
      "4\n",
      "6\n",
      "8\n",
      "10\n",
      "Val =  [1 2 3]\n",
      "1\n",
      "2\n",
      "3\n",
      "Val =  [4 5 6]\n",
      "4\n",
      "5\n",
      "6\n",
      "Val =  [7 8 9]\n",
      "7\n",
      "8\n",
      "9\n",
      "0\n",
      "1\n",
      "2\n",
      "3\n",
      "4\n",
      "5\n",
      "6\n",
      "7\n",
      "8\n",
      "9\n",
      "10\n"
     ]
    }
   ],
   "source": [
    "for i in range(0, 11, 2):\n",
    "    print(i)\n",
    "# Note the indent! Break in indent means end out statements within loop.\n",
    "# range syntax: start, stop + 1 unit, step\n",
    "# range function delivers values from 0 to 10 in steps of 2\n",
    "# i takes one value in each iteration\n",
    "# Nested loops (one within the other is possible) as shown below\n",
    "\n",
    "vp = np.array([[1, 2, 3], [4, 5, 6], [7, 8, 9]])\n",
    "    \n",
    "for val in vp:\n",
    "    print(\"Val = \", val)\n",
    "    for num in val:\n",
    "        print(num)\n",
    "        # continue # to go to next iteration\n",
    "        # break # to break the loop\n",
    "\n",
    "i = 0 # Initialization has to be done for while loop\n",
    "while i in range(0, 11):\n",
    "    print(i)\n",
    "    i += 1 # If not, then the loop will run infinitely"
   ]
  },
  {
   "cell_type": "markdown",
   "metadata": {
    "slideshow": {
     "slide_type": "subslide"
    }
   },
   "source": [
    "# If Clause\n",
    "---"
   ]
  },
  {
   "cell_type": "code",
   "execution_count": 11,
   "metadata": {
    "slideshow": {
     "slide_type": "fragment"
    }
   },
   "outputs": [
    {
     "name": "stdout",
     "output_type": "stream",
     "text": [
      "Enter a value for n:5\n",
      "Execution at else\n",
      "The value of 5! = 120\n"
     ]
    }
   ],
   "source": [
    "f = 1\n",
    "n = int(input(\"Enter a value for n:\"))\n",
    "if isinstance(n, int): # Checks whether the value is integer or not\n",
    "    if n is (1 or 0):\n",
    "        print(\"Execution at if\")\n",
    "        print(\"The value of {}! = {}\".format(n, f))\n",
    "        exit\n",
    "    elif n<0:\n",
    "        print(\"Execution at elif\")\n",
    "        print(\"n is negative!\")\n",
    "    else:\n",
    "        print(\"Execution at else\")\n",
    "        for i in range(2, n+1):\n",
    "            f *= i\n",
    "        print(\"The value of {}! = {}\".format(n, f))\n",
    "else:\n",
    "    print(\"Factorial does not exist\")"
   ]
  },
  {
   "cell_type": "markdown",
   "metadata": {
    "slideshow": {
     "slide_type": "slide"
    }
   },
   "source": [
    "# Functions\n",
    "---\n",
    "Functions are data type independent. The data type issues come only when the code has a mis-match.\n",
    "If you have a code that is data type independent, then functions can work very easily."
   ]
  },
  {
   "cell_type": "code",
   "execution_count": 12,
   "metadata": {},
   "outputs": [
    {
     "name": "stdout",
     "output_type": "stream",
     "text": [
      "Enter a value for n:5\n",
      "Execution at else\n",
      "The value of 5! = 120\n",
      "120\n"
     ]
    }
   ],
   "source": [
    "def fact(n):\n",
    "    f = 1 # This is a local variable. Accessible only inside the function\n",
    "    if isinstance(n, int): # Checks whether the value is integer or not\n",
    "        if n is (1 or 0):\n",
    "            print(\"Execution at if\")\n",
    "            print(\"The value of {}! = {}\".format(n, f))\n",
    "            exit\n",
    "        elif n<0:\n",
    "            f = 0\n",
    "            print(\"Execution at elif\")\n",
    "            print(\"n is negative!\")\n",
    "        else:\n",
    "            print(\"Execution at else\")\n",
    "            for i in range(2, n+1):\n",
    "                f *= i\n",
    "            print(\"The value of {}! = {}\".format(n, f))\n",
    "    else:\n",
    "        f = 0\n",
    "        print(\"Factorial does not exist\")\n",
    "    return f\n",
    "n = int(input(\"Enter a value for n:\"))\n",
    "f = fact(n)\n",
    "print(f)"
   ]
  },
  {
   "cell_type": "markdown",
   "metadata": {
    "collapsed": true,
    "slideshow": {
     "slide_type": "subslide"
    }
   },
   "source": [
    "# Slicing\n",
    "---\n",
    "\n",
    "Convenient and Efficient way for handling arrays."
   ]
  },
  {
   "cell_type": "code",
   "execution_count": 13,
   "metadata": {
    "slideshow": {
     "slide_type": "fragment"
    }
   },
   "outputs": [
    {
     "name": "stdout",
     "output_type": "stream",
     "text": [
      "[0, 1, 2, 3, 4, 5, 6, 7, 8, 9, 10]\n",
      "7\n",
      "[0, 1, 2, 3, 4, 5, 6, 7, 8, 9, 10]\n",
      "[6, 7, 8, 9]\n",
      "[0, 1, 2, 3]\n",
      "[5, 6, 7, 8, 9, 10]\n",
      "[0, 1, 2, 3, 4, 5, 6]\n"
     ]
    }
   ],
   "source": [
    "a = [0, 1, 2, 3, 4, 5, 6, 7, 8, 9, 10]\n",
    "print(a)           # Prints all entries\n",
    "print(a[7])        # Prints only the 7th entry\n",
    "print(a[:])        # Prints all entries\n",
    "print(a[6:10])     # Prints 6th to 9th entry\n",
    "print(a[0:4])      # Prints 0th to 3rd entry\n",
    "print(a[5:])       # Prints 5th entry till last\n",
    "print(a[:7])       # Prints all entries from start till 7th entry"
   ]
  },
  {
   "cell_type": "markdown",
   "metadata": {
    "slideshow": {
     "slide_type": "subslide"
    }
   },
   "source": [
    "__Note__ : Negative Entries also exist! You can check it out!"
   ]
  },
  {
   "cell_type": "markdown",
   "metadata": {
    "slideshow": {
     "slide_type": "subslide"
    }
   },
   "source": [
    "# Modules\n",
    "---"
   ]
  },
  {
   "cell_type": "markdown",
   "metadata": {
    "slideshow": {
     "slide_type": "fragment"
    }
   },
   "source": [
    "Collection of files having functions, objects and classes. Each Module has it's own set of functions.\n",
    "eg: Numpy, scipy, matplotlib, os, netcdf4 etc.,"
   ]
  },
  {
   "cell_type": "markdown",
   "metadata": {
    "slideshow": {
     "slide_type": "fragment"
    }
   },
   "source": [
    "## Including them in the files/functions\n",
    "---\n",
    "```python\n",
    "import numpy\n",
    "# This imports the entire module\n",
    "from numpy import *\n",
    "# Same as above\n",
    "from matplotlib import pyplot\n",
    "# Used for including specific functions/objects/classes\n",
    "import numpy as np\n",
    "# This imports the module with alternate name for convenience\n",
    "import matplotlib.pyplot as plt\n",
    "# This imports specific function with an alternate name\n",
    "from matplotlib import pyplot as plt\n",
    "# Same as above\n",
    "```"
   ]
  },
  {
   "cell_type": "markdown",
   "metadata": {
    "slideshow": {
     "slide_type": "slide"
    }
   },
   "source": [
    "# Session 2\n",
    "\n",
    "Live programs using NumPy and Matplotlib libraries.\n",
    "\n",
    "* NumPy - Numerical Python library\n",
    "    * Has the standard mathematical functions. eg: sin, cos, tan\n",
    "    * Has several important support numerical functions. eg: det, inv, solve, eig\n",
    "    * Provides homogenous data arrays/matrices for scientific computation.\n",
    "    * Base library on top of which other scientific libraries are built.\n",
    "* Matplotlib - MATLAB like plotting library\n",
    "    * An extensive library for plotting and visualization.\n",
    "    * Helps to create canvas objects to draw on top of them.\n",
    "* SciPy - Scientific Python Library\n",
    "    * Built on top of Numpy\n",
    "    * Has valuable research tools. eg: quad (numerical quadrature), fft, ifft, interpolate, lsq (least squares)\n",
    "    * Forms basis for even advanced and specific libraries\n",
    "* SymPy - Symbolic Python Library\n",
    "    * Used for symbolic operations. eg: Integration, Roots, Differentiation, simplify, expand, transforms, etc.,"
   ]
  },
  {
   "cell_type": "markdown",
   "metadata": {
    "slideshow": {
     "slide_type": "subslide"
    }
   },
   "source": [
    "## Problem 1 - Fibonacci Series\n",
    "---\n",
    "\n",
    "Find the first $n$ Fibonacci numbers.In a Fibonacci series/sequence, if $F_n$ is the $n^{th}$ term of the series, (provided $n \\ge 2$) then it can be given in terms of the previous 2 terms, $F_{n-1}$ and $F_{n-2}$ by the recurrence relation,\n",
    "$$ F_n = F_{n-1} + F_{n-2}$$\n",
    "Find all the values till 12th term ($F_{12}$), save them and print them using loops. Take $F_0$ = 0 and $F_1$ = 1. __Use numpy arrays. Set the data type to be int8. Do you notice anything strange? Set the data type to be int16 and repeat. Do you notice anything strange?__ If yes/no, can you guess what could be the reason?"
   ]
  },
  {
   "cell_type": "code",
   "execution_count": 14,
   "metadata": {
    "slideshow": {
     "slide_type": "fragment"
    }
   },
   "outputs": [
    {
     "name": "stdout",
     "output_type": "stream",
     "text": [
      "Enter the number of terms in the series:12\n",
      "The fibonacci series upto 12 term(s) is(are): [ 0  1  1  2  3  5  8 13 21 34 55 89]\n"
     ]
    },
    {
     "data": {
      "image/png": "[encoded data removed]",
      "text/plain": [
       "<matplotlib.figure.Figure at 0x7f5f58b81ef0>"
      ]
     },
     "metadata": {},
     "output_type": "display_data"
    }
   ],
   "source": [
    "# import functions and libraries of your choice\n",
    "import numpy as np\n",
    "import matplotlib.pyplot as plt\n",
    "\n",
    "# ask for user input\n",
    "n = int(input(\"Enter the number of terms in the series:\"))\n",
    "\n",
    "# create a static array to store the sequence values\n",
    "f = np.zeros(n, dtype=np.int16)\n",
    "\n",
    "# Usual method\n",
    "# f[1] = 1\n",
    "# for i in range(2, n+1):\n",
    "#     f[i] = f[i-1] + f[i-2]\n",
    "\n",
    "# A Pythonic implementation\n",
    "a = 0\n",
    "b = 1\n",
    "for i in range(1, n):\n",
    "    a, b = b, a+b # Swap and Unpack\n",
    "    f[i] = a\n",
    "\n",
    "# Print them out\n",
    "print(\"The fibonacci series upto {} term(s) is(are):\".format(n), f)\n",
    "\n",
    "plt.figure()\n",
    "plt.plot(f, color='r', marker='*', label='fibonacci numbers')\n",
    "plt.grid()\n",
    "plt.legend()\n",
    "plt.title('Fibonacci numbers upto {} terms'.format(n))\n",
    "plt.savefig('images/fib_numbers.png', format='png', dpi=400, bbox_toinches='tight')\n",
    "plt.show()"
   ]
  },
  {
   "cell_type": "markdown",
   "metadata": {
    "slideshow": {
     "slide_type": "subslide"
    }
   },
   "source": [
    "## Problem 2 - Integer Pythagorean Triples\n",
    "---\n",
    "\n",
    "Find all the possible unique solutions of integral Pythagorean Triples in the 2D domain. The input being the maximum number of points in any direction.\n",
    "\n",
    "#### Method\n",
    "Let $ Z = (u,v)$ be a point in the complex plane with $u$, $v$ to be integers. Then $Y = Z^2 = (p, q)$ is again a point in the complex plain with $p$ and $q$ to be integers such that $p = u^2 - v^2$ and $q = 2uv$, at a distance $ u^2 + v^2 $ from the origin.\n"
   ]
  },
  {
   "cell_type": "code",
   "execution_count": 15,
   "metadata": {
    "slideshow": {
     "slide_type": "fragment"
    }
   },
   "outputs": [
    {
     "data": {
      "image/png": "[encoded data removed]",
      "text/plain": [
       "<matplotlib.figure.Figure at 0x7f5f549c1a20>"
      ]
     },
     "metadata": {},
     "output_type": "display_data"
    }
   ],
   "source": [
    "import numpy as np\n",
    "import matplotlib.pyplot as plt\n",
    "\n",
    "N = 5\n",
    "\n",
    "triples = np.zeros((3, 2*N+1, 2*N+1), dtype=np.int64)\n",
    "\n",
    "for i in range(-N, N+1):\n",
    "    for j in range(-N, N+1):\n",
    "        triples[:, i, j] = i*i - j*j, 2*i*j, i*i + j*j\n",
    "        # print(triples[:, i, j])\n",
    "\n",
    "bases = triples[0,:,:].flatten()\n",
    "heights = triples[1,:,:].flatten()\n",
    "hypotenuses = triples[2,:,:].flatten()\n",
    "\n",
    "# print(len(bases))\n",
    "\n",
    "xnumbers = np.arange(np.min(bases), np.max(bases)+1, 1)\n",
    "ynumbers = np.arange(np.min(heights), np.max(heights)+1, 2)\n",
    "\n",
    "plt.figure(figsize=(15,10))\n",
    "plt.scatter(bases, heights, color='r', s=20, label='triples')\n",
    "# plt.xticks(xnumbers)\n",
    "# plt.yticks(ynumbers)\n",
    "plt.title('Maximum of {} Pythagorean Triplets from the Origin in all directions'.format(N))\n",
    "plt.legend()\n",
    "plt.grid()\n",
    "\n",
    "# for i in range(0, len(bases)):\n",
    "#     plt.plot((0,bases[i]), (0,heights[i]), color='k')\n",
    "\n",
    "plt.savefig('images/pythagorean_triples.png', format='png', dpi=400, bbox_toinches='tight')\n",
    "plt.show()"
   ]
  },
  {
   "cell_type": "markdown",
   "metadata": {
    "slideshow": {
     "slide_type": "subslide"
    }
   },
   "source": [
    "## Problem 3 - Linear Advection Equation\n",
    "\n",
    "Numerically evolve the Linear Advection Equation with some parameter values. Forward Time Backward Space scheme.\n",
    "\n",
    "#### Method\n",
    "\n",
    "$\\frac{\\partial u}{\\partial t} = -c\\frac{\\partial u}{\\partial x}$\n",
    "\n",
    "n = time step, i = grid point position\n",
    "\n",
    "$u_{n+1,i} = u_{n,i} - \\frac{c\\Delta t}{\\Delta x}(u_{n, i} - u_{n, i-1})$\n",
    "\n",
    "$u_{n+1, i} = \\left(1 - \\frac{c\\Delta t}{\\Delta x}\\right)u_{n, i} + \\left(\\frac{c\\Delta t}{\\Delta x}\\right)u_{n, i-1}$\n",
    "\n",
    "$u_{n+1, i} = F u_{n, i} + R u_{n, i-1}$"
   ]
  },
  {
   "cell_type": "markdown",
   "metadata": {
    "slideshow": {
     "slide_type": "fragment"
    }
   },
   "source": [
    "```python\n",
    "'''\n",
    "This is a program for 1D linear advection equation\n",
    "\n",
    "Ut + c*Ux = 0\n",
    "\n",
    "Scheme used : Forward Time, Backward Space\n",
    "\n",
    "Works for small time steps and small grid size\n",
    "'''\n",
    "\n",
    "import numpy as np\n",
    "import matplotlib.pyplot as plt\n",
    "\n",
    "nx = 100    # Number of grid points\n",
    "nt = 101    # Number of time points\n",
    "L = 10      # Length of Domain\n",
    "A = 1.0     # Amplitude of wave\n",
    "c = 1.0     # wave velocity\n",
    "T = 10.0    # Total Seconds for time march\n",
    "\n",
    "# Grid points\n",
    "x1 = np.linspace(0, L, nx+1)\n",
    "x = x1[:-1]\n",
    "\n",
    "# Time steps\n",
    "t = np.linspace(0, T, nt)\n",
    "\n",
    "dx = x[1] - x[0]    # grid size\n",
    "dt = t[1] - t[0]    # time step in seconds\n",
    "\n",
    "# Computational Parameters\n",
    "R = c*dt/dx     # CFL number\n",
    "F = 1.0 - R     # multiplying factor\n",
    "\n",
    "# Initial condition for U\n",
    "uinit = A*np.sin(2.0*np.pi*x/L)\n",
    "\n",
    "uold = np.copy(uinit)\n",
    "unew = np.zeros(nx)\n",
    "\n",
    "def march(Unew, Uold, f1, f2):\n",
    "\n",
    "    # Calculation along the grid\n",
    "    unew[1:] = f1 * Uold[1:] + f2 * Uold[0:-1]\n",
    "    # Boundary Condition\n",
    "    unew[0] = uold[-1]\n",
    "\n",
    "    # Swapping the values for future use\n",
    "    Uold[:] = Unew\n",
    "\n",
    "    return Uold, Unew\n",
    "\n",
    "# To enable interactive plotting\n",
    "plt.ion()\n",
    "plt.figure()\n",
    "plt.plot(x, uinit, color='xkcd:black', label='Initial Velocity profile')\n",
    "plt.plot(x, uold , color='xkcd:salmon', label='Current Velocity profile')  # Contour plotting the values\n",
    "plt.xlabel('Length', fontsize=10)  # X axis label\n",
    "plt.ylabel('Velocity in $m/s$', fontsize=10)  # Y axis label\n",
    "plt.title('Wave advection in a 1D domain')\n",
    "string = 'Time $t$ = '+str(t[0])+' s, $U_{max}$ = '+str(np.amax(uold))+' $m/s$, $U_{min}$ = '+str(np.amin(uold))+'$m/s$'\n",
    "plt.suptitle(string)\n",
    "plt.legend()\n",
    "plt.grid(True)  # Enabling gridding\n",
    "plt.axis((-0.1, 10.1, -1.2, 1.2))  # Making axis rigid\n",
    "plt.pause(0.01)\n",
    "\n",
    "for i in range(0, nt):\n",
    "\n",
    "    # Calculation along the grid\n",
    "    # unew[1:] = F*uold[1:] + R*uold[0:-1]\n",
    "    # Boundary Condition\n",
    "    # unew[0] = uold[-1]\n",
    "\n",
    "    # Swapping the values for future use\n",
    "    # uold[:] = unew\n",
    "\n",
    "    uold, unew = march(Unew=unew, Uold=uold, f1=F, f2=R)\n",
    "\n",
    "    plt.clf()\n",
    "    plt.plot(x, uinit, color='xkcd:black', label='Initial Velocity profile')\n",
    "    plt.plot(x, uold , color='xkcd:salmon', label='Current Velocity profile')  # Contour plotting the values\n",
    "    plt.xlabel('Length', fontsize=10)  # X axis label\n",
    "    plt.ylabel('Velocity in $m/s$', fontsize=10)  # Y axis label\n",
    "    plt.title('Wave advection in a 1D domain')\n",
    "    string = 'Time $t$ = ' + str(t[i]) + ' s, $U_{max}$ = ' + str(np.amax(uold)) + ' $m/s$, $U_{min}$ = ' + str(\n",
    "        np.amin(uold)) + '$m/s$'\n",
    "    plt.suptitle(string)\n",
    "    plt.legend()\n",
    "    plt.grid(True)  # Enabling gridding\n",
    "    plt.axis((-0.1, 10.1, -1.2, 1.2))  # Making axis rigid\n",
    "    plt.pause(0.01)\n",
    "\n",
    "```"
   ]
  },
  {
   "cell_type": "markdown",
   "metadata": {
    "slideshow": {
     "slide_type": "subslide"
    }
   },
   "source": [
    "### Problem 4 - Laplacian Filter\n",
    "\n",
    "Open an image and extract the borders using a Laplace Filter.\n",
    "\n",
    "#### Method:\n",
    "\n",
    "* Extract the colour values of an image as an array/matrix.\n",
    "* For each and every point, take a weighted sum of the neighbourhood points.\n",
    "* Weights are given by a weight matrix."
   ]
  },
  {
   "cell_type": "markdown",
   "metadata": {
    "slideshow": {
     "slide_type": "fragment"
    }
   },
   "source": [
    "```python\n",
    "import numpy as np\n",
    "import matplotlib.image as img\n",
    "import matplotlib.pyplot as plt\n",
    "from PIL import Image\n",
    "\n",
    "fname='images/stinkbug.png'\n",
    "\n",
    "image = Image.open(fname).convert(\"L\")\n",
    "input_mat = np.asarray(image)\n",
    "\n",
    "rows, columns = np.shape(input_mat)\n",
    "print(rows, columns)\n",
    "\n",
    "cmap = 'gray'\n",
    "\n",
    "filt_mat1 = np.zeros((rows, columns))\n",
    "filt_mat2 = np.zeros((rows, columns))\n",
    "\n",
    "laplace_mat1 = np.array([[ 0.0, -1.0,  0.0], [-1.0, 4.0, -1.0], [ 0.0, -1.0,  0.0]])\n",
    "laplace_mat2 = np.array([[-1.0, -1.0, -1.0], [-1.0, 8.0, -1.0], [-1.0, -1.0, -1.0]])\n",
    "\n",
    "for i in range(1, rows-1):\n",
    "    for j in range(1, columns-1):\n",
    "        temp_mat = input_mat[i-1:i+2, j-1:j+2]\n",
    "        filt_mat1[i,j] = np.sum(temp_mat*laplace_mat1)\n",
    "        filt_mat2[i,j] = np.sum(temp_mat*laplace_mat2)\n",
    "            \n",
    "plt.figure(figsize=(15,10))\n",
    "\n",
    "plt.subplot(131)\n",
    "plt.imshow(input_mat, cmap=cmap, interpolation='nearest')\n",
    "plt.axis('off')\n",
    "plt.title('Original Image in grey scale')\n",
    "\n",
    "plt.subplot(132)\n",
    "plt.imshow(filt_mat1, cmap=cmap, interpolation='nearest')\n",
    "plt.axis('off')\n",
    "plt.title('Filtered Image using L4 filter')\n",
    "\n",
    "plt.subplot(133)\n",
    "plt.imshow(filt_mat2, cmap=cmap, interpolation='nearest')\n",
    "plt.axis('off')\n",
    "plt.title('Filtered Image using L8 filter')\n",
    "plt.show()\n",
    "\n",
    "```"
   ]
  },
  {
   "cell_type": "markdown",
   "metadata": {
    "slideshow": {
     "slide_type": "slide"
    }
   },
   "source": [
    "### Example programs (to try out)\n",
    "\n",
    "* Plot the number of iterations it takes for $m$ consecutive integers from $n$ to converge to 1 using collatz conjecture.\n",
    "* Write a program to numerically evolve 1D diffusion equation."
   ]
  },
  {
   "cell_type": "markdown",
   "metadata": {
    "slideshow": {
     "slide_type": "slide"
    }
   },
   "source": [
    "## Session 3\n",
    "---\n",
    "\n",
    "*_ The fun begins here _*"
   ]
  },
  {
   "cell_type": "markdown",
   "metadata": {
    "slideshow": {
     "slide_type": "slide"
    }
   },
   "source": [
    "# Playing with Matrices\n",
    "---\n",
    "\n",
    "We can do Solve a system of simultaneous equations by using the linear algebra solver in Numpy module.\n",
    "\n",
    "eg: \n",
    "\n",
    "$5x_1 + 6x_2 + 2x_3 + 3x_4 + 3x_5 = 19$\n",
    "\n",
    "$8x_1 + 9x_2 + 8x_3 + 8x_4 + -45x_5 = -12$\n",
    "\n",
    "$8x_1 + 2x_2 + 8x_3 + 6x_4 + 5x_5 = 29$\n",
    "\n",
    "$4x_1 + 1x_2 - 12x_3 + 1x_4 + 2x_5 = -4$\n",
    "\n",
    "$8x_1 + 2x_2 - 4x_3 + -5x_4 + 5x_5 = 6$\n",
    "\n",
    "After this, let's calculate the inverse, eigen values, eigen vectors, determinant etc.,"
   ]
  },
  {
   "cell_type": "code",
   "execution_count": 16,
   "metadata": {
    "slideshow": {
     "slide_type": "fragment"
    }
   },
   "outputs": [
    {
     "name": "stdout",
     "output_type": "stream",
     "text": [
      "The solution is:  [ 1.  1.  1.  1.  1.]\n",
      "True\n"
     ]
    }
   ],
   "source": [
    "import numpy as np\n",
    "\n",
    "A = np.array([[5., 6, 2, 3, 3],[8, 9, 8, 8, -45],[8, 2, 8, 6, 5],[4, 1, -12, 1, 2],[8, 2, -4, -5, 5]])\n",
    "# Input Matrix or Co-efficient Matrix\n",
    "b = np.array((19, -12, 29., -4, 6))\n",
    "# RHS matrix\n",
    "x = np.linalg.solve(A, b)\n",
    "# Solution\n",
    "# np.linalg.lstsq(a,b) if A is rectangular\n",
    "print(\"The solution is: \", x)\n",
    "\n",
    "print(np.allclose(np.dot(A, x), b)) # This does matrix multiplication\n",
    "# Checks whether the solution x when multiplied with A equals b"
   ]
  },
  {
   "cell_type": "code",
   "execution_count": 17,
   "metadata": {
    "slideshow": {
     "slide_type": "fragment"
    }
   },
   "outputs": [
    {
     "name": "stdout",
     "output_type": "stream",
     "text": [
      "[[ -7.09840529e-02   1.24534645e-02   7.44985275e-02   2.23995666e-02\n",
      "    7.12132578e-02]\n",
      " [  2.10812913e-01  -1.94476857e-04  -1.06573318e-01  -3.32555426e-02\n",
      "   -8.36250486e-03]\n",
      " [ -1.06962271e-03   7.25815414e-04   2.27468467e-02  -7.23141357e-02\n",
      "    1.33529199e-02]\n",
      " [  1.16686114e-03  -7.91798633e-04   6.60943491e-02   7.88881480e-02\n",
      "   -1.05475913e-01]\n",
      " [  2.95604823e-02  -2.00588987e-02   7.72350947e-03  -1.50025004e-03\n",
      "   -5.38978719e-03]]\n",
      "[[ -7.09840529e-02   1.24534645e-02   7.44985275e-02   2.23995666e-02\n",
      "    7.12132578e-02]\n",
      " [  2.10812913e-01  -1.94476857e-04  -1.06573318e-01  -3.32555426e-02\n",
      "   -8.36250486e-03]\n",
      " [ -1.06962271e-03   7.25815414e-04   2.27468467e-02  -7.23141357e-02\n",
      "    1.33529199e-02]\n",
      " [  1.16686114e-03  -7.91798633e-04   6.60943491e-02   7.88881480e-02\n",
      "   -1.05475913e-01]\n",
      " [  2.95604823e-02  -2.00588987e-02   7.72350947e-03  -1.50025004e-03\n",
      "   -5.38978719e-03]]\n"
     ]
    }
   ],
   "source": [
    "print(np.linalg.inv(A)) # Calculates the Inverse of A\n",
    "\n",
    "print(np.linalg.pinv(A)) # Calculates the pseudo inverse of A"
   ]
  },
  {
   "cell_type": "code",
   "execution_count": 18,
   "metadata": {
    "slideshow": {
     "slide_type": "fragment"
    }
   },
   "outputs": [
    {
     "name": "stdout",
     "output_type": "stream",
     "text": [
      "The Eigen Values are :  [ -7.37102856 +0.j          13.73783413 +7.74629984j\n",
      "  13.73783413 -7.74629984j   3.94768015+11.89424798j\n",
      "   3.94768015-11.89424798j]\n",
      "The Eigen Vector 0 is :  [ 0.49201449+0.j -0.82873391+0.j -0.02542154+0.j -0.11542826+0.j\n",
      " -0.23906465+0.j]\n",
      "The Eigen Vector 1 is :  [ 0.24316923-0.32974889j  0.64230668+0.j          0.08457836-0.52048385j\n",
      "  0.19363778+0.23447995j  0.02506534-0.22003383j]\n",
      "The Eigen Vector 2 is :  [ 0.24316923+0.32974889j  0.64230668-0.j          0.08457836+0.52048385j\n",
      "  0.19363778-0.23447995j  0.02506534+0.22003383j]\n",
      "The Eigen Vector 3 is :  [ 0.14007002+0.18839566j -0.67298072+0.j          0.35217748-0.25513474j\n",
      "  0.25739106+0.41886759j  0.05771099+0.24048061j]\n",
      "The Eigen Vector 4 is :  [ 0.14007002-0.18839566j -0.67298072-0.j          0.35217748+0.25513474j\n",
      "  0.25739106-0.41886759j  0.05771099-0.24048061j]\n",
      "The Determinant is : -287952.0\n"
     ]
    }
   ],
   "source": [
    "EigVal, EigVec = np.linalg.eig(A) # Gives the Eigen values and Eigen Vectors of A\n",
    "\n",
    "print(\"The Eigen Values are : \",EigVal)\n",
    "\n",
    "for i in range(0, 5):\n",
    "    print(\"The Eigen Vector {} is : \".format(i), EigVec[:,i])\n",
    "    \n",
    "print(\"The Determinant is :\", np.linalg.det(A))"
   ]
  },
  {
   "cell_type": "markdown",
   "metadata": {
    "slideshow": {
     "slide_type": "fragment"
    }
   },
   "source": [
    "To enable Matrix multiplication, use\n",
    "\n",
    "```python\n",
    "np.matrix(array)\n",
    "np.mat(a1) * np.mat(a2)\n",
    "np.dot(mat1,mat2)\n",
    "\n",
    "# Arrays:\n",
    "# * and np.multiply(A1, A2) for element-wise multiplication\n",
    "# np.dot(A1, A2) for matrix multiplication\n",
    "\n",
    "# Matrices:\n",
    "# * and np.dot(M1, M2) for matrix multiplication\n",
    "# np.multiply(M1, M2) for element-wise multiplication\n",
    "```\n",
    "    For arrays, * means element wise multiplication. Use np.dot() for matrix multiplication.\n",
    "    For matrix, * means matrix multiplication."
   ]
  },
  {
   "cell_type": "markdown",
   "metadata": {
    "slideshow": {
     "slide_type": "slide"
    }
   },
   "source": [
    "# Integration in Python\n",
    "---\n",
    "This can be done by using numerical quadrature. You have several functions available for calculating integrals"
   ]
  },
  {
   "cell_type": "code",
   "execution_count": 19,
   "metadata": {
    "slideshow": {
     "slide_type": "fragment"
    }
   },
   "outputs": [
    {
     "name": "stdout",
     "output_type": "stream",
     "text": [
      "The integral is : 41.33333333333333\n",
      "The error is : 4.588921835117313e-13\n"
     ]
    },
    {
     "data": {
      "image/png": "[encoded data removed]",
      "text/plain": [
       "<matplotlib.figure.Figure at 0x7f5f53b0e080>"
      ]
     },
     "metadata": {},
     "output_type": "display_data"
    }
   ],
   "source": [
    "import numpy as np\n",
    "from scipy.integrate.quadpack import quad\n",
    "import matplotlib.pyplot as plt\n",
    "import matplotlib as mpl\n",
    "\n",
    "mpl.style.use('classic')\n",
    "\n",
    "b = 5.0\n",
    "\n",
    "# Function which is to be integrated\n",
    "def func(x):\n",
    "    return np.array(x**2) \n",
    "\n",
    "x = np.linspace(-10, 10, 201)\n",
    "integral, err = quad(func, 1, 5)\n",
    "# Numerical quadrature that calculates the integral and error\n",
    "\n",
    "print(\"The integral is :\", integral)\n",
    "print(\"The error is :\", err)\n",
    "\n",
    "section = np.linspace(-5, 5, 20)\n",
    "\n",
    "plt.plot(x, func(x), label='Function', color='b')\n",
    "plt.fill_between(section, func(section), facecolor='red')\n",
    "plt.grid()\n",
    "plt.legend()\n",
    "plt.title('Area under the curve')\n",
    "plt.show()"
   ]
  },
  {
   "cell_type": "markdown",
   "metadata": {
    "slideshow": {
     "slide_type": "subslide"
    }
   },
   "source": [
    "## Another Example!\n",
    "---\n",
    "\n",
    "$E_{\\lambda}(\\lambda, T) = \\frac{2\\pi\\ hc^2}{\\lambda^5}\\frac{1.0}{\\exp{\\left[\\frac{hc}{\\lambda k_BT}\\right]}-1} Wm^{-2}K^{-1}\\mu m^{-1}$\n",
    "\n",
    "* Plot the black body energy curves for the Sun ($T_{surf} = 5770.0\\ K$)\n",
    "* Calculate the energy flux for the entire visible region and show this as a fraction of the total energy flux\n",
    "* Compare this black body radiation curve with curves for temperature 4000.0, 5000.0, 6000.0 K."
   ]
  },
  {
   "cell_type": "code",
   "execution_count": 20,
   "metadata": {
    "slideshow": {
     "slide_type": "fragment"
    }
   },
   "outputs": [
    {
     "name": "stderr",
     "output_type": "stream",
     "text": [
      "/home/arun/anaconda3/lib/python3.6/site-packages/ipykernel_launcher.py:19: RuntimeWarning: divide by zero encountered in true_divide\n",
      "/home/arun/anaconda3/lib/python3.6/site-packages/ipykernel_launcher.py:19: RuntimeWarning: invalid value encountered in true_divide\n"
     ]
    },
    {
     "name": "stdout",
     "output_type": "stream",
     "text": [
      "The total Energy flux is : 62851322.5873358\n",
      "The Energy flux in the band is : 29217830.60463064\n",
      "The Energy flux Fraction is: 0.46487216818756133\n",
      "The error is : 3.24383082668585e-07\n"
     ]
    },
    {
     "data": {
      "image/png": "[encoded data removed]",
      "text/plain": [
       "<matplotlib.figure.Figure at 0x7f5f4a38e5f8>"
      ]
     },
     "metadata": {},
     "output_type": "display_data"
    }
   ],
   "source": [
    "from scipy.constants import codata\n",
    "import numpy as np\n",
    "from scipy.integrate.quadpack import quad\n",
    "import matplotlib.pyplot as plt\n",
    "import matplotlib as mpl\n",
    "\n",
    "mpl.style.use('classic')\n",
    "\n",
    "# get physical from module:\n",
    "D = codata.physical_constants\n",
    "\n",
    "s = D['Stefan-Boltzmann constant'][0]\n",
    "\n",
    "# Put the variable that you want to integrate first!\n",
    "def spectra(l,T):\n",
    "    h = D['Planck constant'][0]\n",
    "    k = D['Boltzmann constant'][0]\n",
    "    c = D['speed of light in vacuum'][0]\n",
    "    func = ((2.0*h*np.pi*c**2)/(l**5))/(np.exp(h*c/(l*k*T)) - 1.0)\n",
    "    return func\n",
    "\n",
    "T1 = 5770.0\n",
    "T2 = 6000.0\n",
    "T3 = 5000.0\n",
    "T4 = 4000.0\n",
    "\n",
    "int1,err1 = quad(spectra, 0.38e-6, 0.78e-6, args=(T1))\n",
    "\n",
    "E1 = s*T1**4\n",
    "\n",
    "l = np.linspace(0, 5e-6, 201)\n",
    "\n",
    "s1 = spectra(l, T1)\n",
    "s2 = spectra(l, T2)\n",
    "s3 = spectra(l, T3)\n",
    "s4 = spectra(l, T4)\n",
    "\n",
    "print(\"The total Energy flux is :\", E1)\n",
    "print(\"The Energy flux in the band is :\", int1)\n",
    "print(\"The Energy flux Fraction is:\", int1/E1)\n",
    "print(\"The error is :\", err1)\n",
    "\n",
    "section = np.linspace(0.38e-6, 0.78e-6, 20)\n",
    "\n",
    "plt.plot(l*1e6, s1, 'k', label='T = 5770 K')\n",
    "plt.plot(l*1e6, s2, 'b', label='T = 6000 K')\n",
    "plt.plot(l*1e6, s3, 'g', label='T = 5000 K')\n",
    "plt.plot(l*1e6, s4, 'y', label='T = 4000 K')\n",
    "plt.fill_between(section*1e6, spectra(section, T1), facecolor='red')\n",
    "plt.legend()\n",
    "plt.grid('on')\n",
    "plt.axis([0.0, 5.0, 0.0e13, 10.5e13])\n",
    "plt.xticks(np.linspace(0.0, 5.0, 11))\n",
    "plt.yticks(np.linspace(0.0e13, 10.5e13, 20))\n",
    "plt.xlabel('Wavelength in $\\mu m$')\n",
    "plt.ylabel('Irradiance in $Wm^{-2}\\mu m^{-1}$')\n",
    "plt.title(\"Integral of Planck's Spectral Emission Curves\")\n",
    "plt.savefig('images/Spectra.png', format='png', dpi=400)\n",
    "plt.show()"
   ]
  },
  {
   "cell_type": "markdown",
   "metadata": {
    "slideshow": {
     "slide_type": "slide"
    }
   },
   "source": [
    "# Differentiation in Python\n",
    "---\n",
    "This is rather straight forward"
   ]
  },
  {
   "cell_type": "code",
   "execution_count": 21,
   "metadata": {
    "collapsed": true,
    "slideshow": {
     "slide_type": "fragment"
    }
   },
   "outputs": [],
   "source": [
    "x = np.linspace(0, 2.0*np.pi, 100)\n",
    "y = np.sin(2*x)\n",
    "y1 = np.gradient(y, x[1]-x[0]) # Calculates the Differential\n",
    "y2 = np.gradient(y1, x[1]-x[0])\n",
    "\n",
    "plt.plot(x, y, label='sin(2*x)')\n",
    "plt.plot(x, y1, label='2cos(2x)')\n",
    "plt.plot(x, y2, label='-4sin(2x)')\n",
    "plt.legend()\n",
    "plt.grid()\n",
    "plt.savefig('images/Differentiation.png', format='png', dpi=400)"
   ]
  },
  {
   "cell_type": "markdown",
   "metadata": {
    "slideshow": {
     "slide_type": "slide"
    }
   },
   "source": [
    "# Symbolic Operations in Python\n",
    "---\n",
    "\n",
    "This is done using sympy module. (Symbolic Python Module)"
   ]
  },
  {
   "cell_type": "markdown",
   "metadata": {
    "slideshow": {
     "slide_type": "fragment"
    }
   },
   "source": [
    "You can do:\n",
    "\n",
    "* Symbolic Integration\n",
    "* Symbolic Differentiation\n",
    "* Symbolic Transformations\n",
    "* Solve functions and equations"
   ]
  },
  {
   "cell_type": "code",
   "execution_count": 22,
   "metadata": {
    "slideshow": {
     "slide_type": "fragment"
    }
   },
   "outputs": [
    {
     "data": {
      "text/plain": [
       "x**3/3 + x**2 + x"
      ]
     },
     "execution_count": 22,
     "metadata": {},
     "output_type": "execute_result"
    }
   ],
   "source": [
    "import sympy as sym\n",
    "\n",
    "x = sym.Symbol('x')\n",
    "sym.integrate(x**2 + 2*x + 1)"
   ]
  },
  {
   "cell_type": "code",
   "execution_count": 23,
   "metadata": {
    "slideshow": {
     "slide_type": "fragment"
    }
   },
   "outputs": [
    {
     "data": {
      "text/plain": [
       "x**3/3 - cos(x)"
      ]
     },
     "execution_count": 23,
     "metadata": {},
     "output_type": "execute_result"
    }
   ],
   "source": [
    "x = sym.Symbol('x')\n",
    "sym.integrate(x**2 + sym.sin(x))"
   ]
  },
  {
   "cell_type": "code",
   "execution_count": 24,
   "metadata": {
    "slideshow": {
     "slide_type": "fragment"
    }
   },
   "outputs": [
    {
     "data": {
      "text/plain": [
       "Piecewise((0, Eq(2*pi/T, 0)), (-T*cos(2*pi*l/T)/(2*pi), True))"
      ]
     },
     "execution_count": 24,
     "metadata": {},
     "output_type": "execute_result"
    }
   ],
   "source": [
    "l = sym.Symbol('l')\n",
    "T = sym.Symbol('T')\n",
    "sym.integrate(sym.sin(2*sym.pi*l/T), l)"
   ]
  },
  {
   "cell_type": "code",
   "execution_count": 25,
   "metadata": {
    "slideshow": {
     "slide_type": "fragment"
    }
   },
   "outputs": [
    {
     "data": {
      "text/plain": [
       "2*x + cos(x)"
      ]
     },
     "execution_count": 25,
     "metadata": {},
     "output_type": "execute_result"
    }
   ],
   "source": [
    "x = sym.Symbol('x')\n",
    "sym.diff(x**2 + sym.sin(x))"
   ]
  },
  {
   "cell_type": "code",
   "execution_count": 26,
   "metadata": {
    "slideshow": {
     "slide_type": "fragment"
    }
   },
   "outputs": [
    {
     "data": {
      "text/plain": [
       "2*pi*cos(2*pi*l/T)/T"
      ]
     },
     "execution_count": 26,
     "metadata": {},
     "output_type": "execute_result"
    }
   ],
   "source": [
    "l = sym.Symbol('l')\n",
    "T = sym.Symbol('T')\n",
    "sym.diff(sym.sin(2*sym.pi*l/T), l)"
   ]
  },
  {
   "cell_type": "code",
   "execution_count": 27,
   "metadata": {
    "slideshow": {
     "slide_type": "fragment"
    }
   },
   "outputs": [
    {
     "data": {
      "text/plain": [
       "((s**2 + 2*s + 2)/s**3, 0, True)"
      ]
     },
     "execution_count": 27,
     "metadata": {},
     "output_type": "execute_result"
    }
   ],
   "source": [
    "from sympy.integrals import laplace_transform as lt\n",
    "from sympy.abc import t, s # Standard symbols\n",
    "lt(t**2 + 2*t + 1, t, s)"
   ]
  },
  {
   "cell_type": "code",
   "execution_count": 28,
   "metadata": {
    "slideshow": {
     "slide_type": "fragment"
    }
   },
   "outputs": [
    {
     "data": {
      "text/plain": [
       "x**3 + 3*x**2*y + 3*x*y**2 + y**3"
      ]
     },
     "execution_count": 28,
     "metadata": {},
     "output_type": "execute_result"
    }
   ],
   "source": [
    "y = sym.Symbol('y')\n",
    "sym.expand((x+y)**3)"
   ]
  },
  {
   "cell_type": "code",
   "execution_count": 29,
   "metadata": {
    "slideshow": {
     "slide_type": "fragment"
    }
   },
   "outputs": [
    {
     "data": {
      "text/plain": [
       "[-1, 1, -I, I]"
      ]
     },
     "execution_count": 29,
     "metadata": {},
     "output_type": "execute_result"
    }
   ],
   "source": [
    "sym.solve(x**4 - 1, x)"
   ]
  },
  {
   "cell_type": "code",
   "execution_count": 30,
   "metadata": {
    "slideshow": {
     "slide_type": "fragment"
    }
   },
   "outputs": [
    {
     "data": {
      "text/plain": [
       "(x**2 - x - 1)*(x**2 + x - 1)"
      ]
     },
     "execution_count": 30,
     "metadata": {},
     "output_type": "execute_result"
    }
   ],
   "source": [
    "f = x**4 - 3*x**2 + 1\n",
    "sym.factor(f)"
   ]
  },
  {
   "cell_type": "markdown",
   "metadata": {
    "slideshow": {
     "slide_type": "slide"
    }
   },
   "source": [
    "## Solving an ODE:\n",
    "### Mass Spring Damper\n",
    "---\n",
    "\n",
    "Scipy library has quite a lot of functions to do it.\n",
    "\n",
    "For Example, Let's see how a mass-spring-damper system is solved!\n",
    "\n",
    "$ m\\ddot{x} + c\\dot{x} + kx = F_0\\sin{\\omega t}$\n",
    "\n",
    "$x(t = 0) = 0$ and $\\dot{x}(t = 0) = 0$\n",
    "\n",
    "$ \\ddot{x} = \\left[\\frac{F_0\\sin{\\omega t}}{m} - \\frac{c\\dot{x}}{m} - \\frac{kx}{m} \\right]$\n",
    "\n",
    "Let \n",
    "\n",
    "$\\dot{x} = x_1$\n",
    "\n",
    "$\\dot{x_1} = \\ddot{x} = \\left[\\frac{F_0\\sin{\\omega t}}{m} - \\frac{c\\dot{x_1}}{m} - \\frac{kx}{m} \\right]$"
   ]
  },
  {
   "cell_type": "markdown",
   "metadata": {
    "slideshow": {
     "slide_type": "fragment"
    }
   },
   "source": [
    "We need:\n",
    "\n",
    "    * A function that represents the equation and derivatives\n",
    "    * odeint function from scipy\n",
    "    * Initial conditions"
   ]
  },
  {
   "cell_type": "markdown",
   "metadata": {},
   "source": [
    "```python\n",
    "'''\n",
    "Numerical Integration Library\n",
    "\n",
    "Contains functions for numerical integration\n",
    "'''\n",
    "\n",
    "import numpy as np\n",
    "\n",
    "class rk_schemes:\n",
    "\n",
    "    def rk4(inp_func, init_conditions, t, args):\n",
    "\n",
    "        nt = len(t)\n",
    "        n_outs = len(init_conditions)\n",
    "\n",
    "        # print(\"init_conditions = \", init_conditions)\n",
    "\n",
    "        states = np.zeros((nt, n_outs))\n",
    "        k1 = np.zeros((nt, n_outs))\n",
    "        k2 = np.zeros((nt, n_outs))\n",
    "        k3 = np.zeros((nt, n_outs))\n",
    "        k4 = np.zeros((nt, n_outs))\n",
    "\n",
    "        dt = t[1] - t[0]\n",
    "\n",
    "        states[0,:] = init_conditions\n",
    "\n",
    "        for i in range(1, nt):\n",
    "            var_ins = states[i-1,:]\n",
    "            k1[i-1,:] = inp_func(var_ins, t[i], *args)\n",
    "            k2[i-1,:] = inp_func(var_ins+k1[i-1,:]*dt*0.5, t[i], *args)\n",
    "            k3[i-1,:] = inp_func(var_ins+k2[i-1,:]*dt*0.5, t[i], *args)\n",
    "            k4[i-1,:] = inp_func(var_ins+k3[i-1,:]*dt, t[i], *args)\n",
    "\n",
    "            states[i,:] = var_ins + (k1[i-1,:] + 2.0*k2[i-1,:] + 2.0*k3[i-1,:] + k4[i-1,:])*dt/6.0\n",
    "            # print(i, states[i,:])\n",
    "\n",
    "        return states\n",
    "```"
   ]
  },
  {
   "cell_type": "markdown",
   "metadata": {
    "slideshow": {
     "slide_type": "subslide"
    }
   },
   "source": [
    "```python\n",
    "import numpy as np\n",
    "from scipy.integrate import odeint\n",
    "import matplotlib.pyplot as plt\n",
    "from NumIntLib import rk_schemes as rk\n",
    "    \n",
    "def dampfunc(x, t, F0, omg, m, c, k):\n",
    "    x0 = x[0] # Displacement\n",
    "    x1 = x[1] # Velocity\n",
    "    x2 = F0*np.sin(omg*t)/m - c*x1/m - k*x0/m # Acceleration\n",
    "    return x1, x2\n",
    "\n",
    "F0 = 50.0\n",
    "omg = 1.0\n",
    "m = 2.0\n",
    "c = 1.0\n",
    "k = 20\n",
    "\n",
    "params = (F0, omg, m, c, k)\n",
    "\n",
    "init = [0.0, 0.0] # Initial conditions\n",
    "t = np.linspace(0.0, 10.0, 101)\n",
    "\n",
    "x = odeint(dampfunc, init, t, args=params) # This is the vital part!\n",
    "# x = rk.rk4(dampfunc, init, t, args=params) # This is the vital part!\n",
    "\n",
    "acc = F0*np.sin(omg*t)/m - c*x[:,1]/m - k*x[:,0]/m\n",
    "\n",
    "plt.plot(t, x[:,0], 'b', label='$x (m)$')\n",
    "plt.plot(t, x[:,1], 'r', label='$\\dot{x} (m/s)$')\n",
    "plt.plot(t, acc, 'g', label='$\\ddot{x} (m/s^2)$')\n",
    "plt.axis([0, 10, -10, 10])\n",
    "plt.xticks(np.linspace(0,10,11))\n",
    "plt.yticks(np.linspace(-10,10,11))\n",
    "plt.grid('on')\n",
    "plt.legend()\n",
    "plt.title('Solution to a Mass Spring Damper System')\n",
    "plt.suptitle('Session 3, Demos')\n",
    "plt.xlabel('Time in s')\n",
    "plt.ylabel('Magnitudes')\n",
    "plt.savefig('images/Mass_Spring_Damper.jpg', format='jpg', dpi=200)\n",
    "```"
   ]
  },
  {
   "cell_type": "markdown",
   "metadata": {
    "slideshow": {
     "slide_type": "subslide"
    }
   },
   "source": [
    "### Solution to Lorenz Attractor\n",
    "---\n",
    "\n",
    "$ \\dot{x} = \\sigma(y-x)$\n",
    "\n",
    "$ \\dot{y} = (\\rho - z)x - y$\n",
    "\n",
    "$ \\dot{z} = xy - \\beta z$\n",
    "\n",
    "where:\n",
    "$\\sigma = 10$,\n",
    "$\\rho = 28$,\n",
    "$\\beta = \\frac{8}{3}$\n",
    "\n",
    "Initial Conditions: $x(t = 0) = y(t = 0) = z(t = 0) = 1.0$"
   ]
  },
  {
   "cell_type": "markdown",
   "metadata": {
    "slideshow": {
     "slide_type": "fragment"
    }
   },
   "source": [
    "```python\n",
    "import numpy as np\n",
    "from scipy.integrate import odeint\n",
    "import matplotlib.pyplot as plt\n",
    "from NumIntLib import rk_schemes as rk\n",
    "\n",
    "def lorenz(st, t, s, p, b):\n",
    "    \n",
    "    x0 = st[0] # x displacement\n",
    "    y0 = st[1] # y displacement\n",
    "    z0 = st[2] # z displacement\n",
    "    \n",
    "    xd = s*(y0-x0)\n",
    "    yd = (p-z0)*x0 - y0\n",
    "    zd = x0*y0 - b*z0\n",
    "    \n",
    "    return xd, yd, zd\n",
    "\n",
    "s = 10.0\n",
    "p = 28.0\n",
    "b = 8.0/3.0\n",
    "\n",
    "init = [1.0, 1.0, 1.0]\n",
    "params = (s, p, b)\n",
    "t = np.arange(0.0, 60.0, 0.01)\n",
    "\n",
    "# st = odeint(lorentz, init, t, args=params)\n",
    "st = rk.rk4(lorenz, init, t, args=params)\n",
    "\n",
    "x = st[:,0]\n",
    "y = st[:,1]\n",
    "z = st[:,2]\n",
    "\n",
    "from mpl_toolkits.mplot3d import Axes3D\n",
    "fig = plt.figure()\n",
    "ax = fig.gca(projection='3d')\n",
    "ax.plot(x, y, z, 'r', label='Lorenz Butterfly')\n",
    "ax.set_xlabel('x')\n",
    "ax.set_ylabel('y')\n",
    "ax.set_zlabel('z')\n",
    "ax.legend()\n",
    "plt.savefig('Lorenz_Butterfly.png', format='png', dpi=400)\n",
    "```"
   ]
  },
  {
   "cell_type": "markdown",
   "metadata": {
    "slideshow": {
     "slide_type": "slide"
    }
   },
   "source": [
    "# FFT and IFFT\n",
    "---\n",
    "\n",
    "This is possible using numpy and scipy modules\n",
    "\n",
    "* Use fourier filtering to remove certain frequencies\n",
    "* Show the power spectra of the original signal\n",
    "* Also, perform differentiation of the original signal in frequency domain"
   ]
  },
  {
   "cell_type": "markdown",
   "metadata": {
    "slideshow": {
     "slide_type": "subslide"
    }
   },
   "source": [
    "```python\n",
    "# Program to try and work out the power spectrum\n",
    "\n",
    "import numpy as np\n",
    "import matplotlib.pyplot as plt\n",
    "from scipy.fft import fft, fftfreq, ifft\n",
    "\n",
    "n = 1024\n",
    "Lx = 100\n",
    "omg = 2.0*np.pi/Lx\n",
    "\n",
    "x = np.linspace(0, Lx, n)\n",
    "y1 = 1.0*np.cos( 5.0*omg*x)\n",
    "y2 = 1.0*np.sin(10.0*omg*x)\n",
    "y3 = 0.5*np.sin(20.0*omg*x)\n",
    "y = y1 + y2 + y3\n",
    "act = y1 + y2\n",
    "yd_true = (omg)*( -5.0*1.0*np.sin(5.0*omg*x) + 10.0*1.0*np.cos(10.0*omg*x) + 20.0*0.5*np.cos(20.0*omg*x))\n",
    "\n",
    "mean_y = np.mean(y)\n",
    "std_y = np.std(y)\n",
    "var_y = std_y**2.0\n",
    "\n",
    "print(mean_y, std_y, var_y)\n",
    "\n",
    "# Creates all the necessary frequencies\n",
    "freqs = fftfreq(n)\n",
    "\n",
    "# Arranges the frequencies in ascending order\n",
    "idx = np.argsort(freqs)\n",
    "\n",
    "# wave numbers\n",
    "nwaves = freqs*n\n",
    "nwaves_2pi = omg*nwaves\n",
    "\n",
    "# mask array to be used for power spectra.\n",
    "# ignoring half the values, as they are complex conjucates of the other\n",
    "mask = freqs > 0\n",
    "\n",
    "# fft values\n",
    "fft_vals = fft(y)\n",
    "\n",
    "# Fourier filtering\n",
    "fft_new = np.copy(fft_vals)\n",
    "fft_new[np.abs(nwaves)==20] = 0.0\n",
    "\n",
    "# inverse fourier transform to reconstruct the filtered data\n",
    "filt_data = np.real(ifft(fft_new))\n",
    "\n",
    "# derivative of y in frequency spectrum\n",
    "yd_fft = 1.0j*nwaves_2pi*fft_vals\n",
    "yd_recon = np.real(ifft(yd_fft))\n",
    "\n",
    "# this is the power spectra\n",
    "ps = 2.0*np.abs(fft_vals/n)**2.0\n",
    "\n",
    "# power by variance\n",
    "pow_var = ps/var_y*100.0\n",
    "\n",
    "# freq.power spectra - for variance preserving form\n",
    "fps = ps*freqs\n",
    "\n",
    "#print(fft_vals)\n",
    "#print(np.abs(fft_vals*2.0/n))\n",
    "print(np.sum(ps[mask]))\n",
    "\n",
    "plt.figure(1)\n",
    "plt.title('Original Signal')\n",
    "plt.plot(x, y, color='xkcd:salmon', label='original')\n",
    "plt.legend()\n",
    "\n",
    "plt.figure(2)\n",
    "plt.plot(nwaves[mask], ps[mask], label='wavenumber vs spectra')\n",
    "plt.title('Power Spectrum Example - wavenumber vs spectra')\n",
    "plt.legend()\n",
    "\n",
    "plt.figure(3)\n",
    "plt.title('Data Filtering example')\n",
    "plt.plot(x, act, color='black', label='theoretical')\n",
    "plt.plot(x, filt_data, color='cyan', label='via fourier filtering')\n",
    "plt.legend()\n",
    "\n",
    "plt.figure(4)\n",
    "plt.title('Derivative of the signal')\n",
    "plt.plot(x, yd_true, color='black', label='theoretical')\n",
    "plt.plot(x, yd_recon, color='cyan', label='via spectral method')\n",
    "plt.legend()\n",
    "plt.show()\n",
    "```"
   ]
  },
  {
   "cell_type": "markdown",
   "metadata": {
    "slideshow": {
     "slide_type": "slide"
    }
   },
   "source": [
    "## Session 4\n",
    "----\n",
    "\n",
    "* Explanation of basic Documentation and Presentation using IPython/Jupyter notebooks\n",
    "* Basics of Markdown and Presentation using Jupyter Notebooks\n",
    "* Demonstration of speed enhancing technologies in Python\n",
    "    * For C/C++ program users, \n",
    "        * Cython - slight customization of Python code\n",
    "        * Alternate Option (Deprecated!)\n",
    "            * Weave in SciPy (writing direct C/C++ code snippets),\n",
    "    * For Fortran users\n",
    "        * f2py - write Fortran codes and import them as Python modules\n",
    "        * cbindings (extensive customization of Python functions) are alternate options\n",
    "    * Numba - use \"decorators\" to speed up normal Python code\n",
    "    * mpi4py - use MPI for parallel programming (not shown today)\n",
    "* About Anaconda Cloud\n",
    "* Where do you stand?\n",
    "* Some important libraries\n",
    "* PEP8 conventions\n",
    "* The \"Zen of Python\"\n",
    "* Audience Questions"
   ]
  },
  {
   "cell_type": "markdown",
   "metadata": {
    "slideshow": {
     "slide_type": "slide"
    }
   },
   "source": [
    "# JuPyter Notebooks\n",
    "---\n",
    "\n",
    "You can write short codes and experiment/document it in the notebook. The notebook has an extension ``*.ipynb``.\n",
    "\n",
    "### So, what is it?\n",
    "\n",
    "* Initially called as IPython Notebooks, later the project moved to JuPyter \n",
    "* GUI interface Made using HTML, CSS, JavaScript, reveal.js, Bootstrap, jQuery, JSON, and few others,\n",
    "* Uses Markdown for syntax, Pandoc for file conversions, JSON as source code, MathJax for $\\LaTeX$ rendering\n",
    "* Runs in a web browser with an inbuilt server using tornado.\n",
    "* Has an internal kernel slot for a programming engine primarily designed for Python.\n",
    "    * Other Programming languages can also be used inside\n",
    "        * eg: R, Julia, Haskell, Ruby etc.,\n",
    "* Can call a terminal, and multiple Python kernels can run simultaneously,\n",
    "* Also, **Multiple programming kernels can run simultaneously and exchange data!**,\n",
    "    * Works with R and Python using support libraries.\n",
    "* Similar to Mathematica notebooks, it helps to run code in batches,\n",
    "* Has more features than its predecessor, IPython Notebooks,\n",
    "* Can write notes using Markdown, make presentation using tornado, reveal.js, and few other software,\n",
    "* Conversion into Python Code, HTML webpage, HTML based slides, PDF, Rich Text Format, LaTeX files possible!"
   ]
  },
  {
   "cell_type": "code",
   "execution_count": 31,
   "metadata": {
    "slideshow": {
     "slide_type": "fragment"
    }
   },
   "outputs": [
    {
     "name": "stdout",
     "output_type": "stream",
     "text": [
      "Hello!\n"
     ]
    }
   ],
   "source": [
    "print(\"Hello!\")"
   ]
  },
  {
   "cell_type": "markdown",
   "metadata": {
    "slideshow": {
     "slide_type": "fragment"
    }
   },
   "source": [
    "Or you can make text content possible using Markdown! This cell is mark down!"
   ]
  },
  {
   "cell_type": "markdown",
   "metadata": {
    "slideshow": {
     "slide_type": "fragment"
    }
   },
   "source": [
    "All the cells have a Markdown/Code/Header option/Nbconvert option on the top, below help button"
   ]
  },
  {
   "cell_type": "markdown",
   "metadata": {
    "slideshow": {
     "slide_type": "fragment"
    }
   },
   "source": [
    "Variables you create/run in the notebook are active till the notebook is closed."
   ]
  },
  {
   "cell_type": "markdown",
   "metadata": {
    "slideshow": {
     "slide_type": "fragment"
    }
   },
   "source": [
    "## How to open?\n",
    "---\n",
    "* Go to terminal,\n",
    "* Type jupyter notebook (In older versions, type ipython notebook)\n",
    "\n",
    "Your browser will open and you will have a Home window.\n",
    "\n",
    "* On the top right side, look for new > notebook > python 2(3)\n",
    "* Click, and a new tab opens up.\n",
    "* This is your notebook."
   ]
  },
  {
   "cell_type": "markdown",
   "metadata": {
    "slideshow": {
     "slide_type": "fragment"
    }
   },
   "source": [
    "## How to type code?\n",
    "---\n",
    "\n",
    "* Open a cell.\n",
    "* Type your commands (a group preferably)\n",
    "* Type CTRL + Enter to execute the cell"
   ]
  },
  {
   "cell_type": "code",
   "execution_count": 32,
   "metadata": {
    "slideshow": {
     "slide_type": "fragment"
    }
   },
   "outputs": [
    {
     "name": "stdout",
     "output_type": "stream",
     "text": [
      "This is a code cell > Where codes are written and executed\n"
     ]
    }
   ],
   "source": [
    "print(\"This is a code cell > Where codes are written and executed\")"
   ]
  },
  {
   "cell_type": "markdown",
   "metadata": {
    "slideshow": {
     "slide_type": "fragment"
    }
   },
   "source": [
    "This is a markup cell where plain writing and formatted writing is possible."
   ]
  },
  {
   "cell_type": "markdown",
   "metadata": {
    "slideshow": {
     "slide_type": "fragment"
    }
   },
   "source": [
    "This is very good for documentation!"
   ]
  },
  {
   "cell_type": "markdown",
   "metadata": {
    "slideshow": {
     "slide_type": "subslide"
    }
   },
   "source": [
    "# Headings\n",
    "---\n",
    "\n",
    "For example\n",
    "    # Heading\n",
    "becomes\n",
    "# Heading"
   ]
  },
  {
   "cell_type": "markdown",
   "metadata": {
    "slideshow": {
     "slide_type": "fragment"
    }
   },
   "source": [
    "    ## Small Heading\n",
    "gives\n",
    "## Small Heading\n",
    "\n",
    "    ### much smaller\n",
    "gives\n",
    "### much smaller\n",
    "---"
   ]
  },
  {
   "cell_type": "markdown",
   "metadata": {
    "slideshow": {
     "slide_type": "fragment"
    }
   },
   "source": [
    "To make underlines, use 3 or 4 minus signs in a new line. For instance\n",
    "    ---\n",
    "becomes\n",
    "\n",
    "----\n",
    "\n",
    "    Use tabs to make syntax writeups like this one"
   ]
  },
  {
   "cell_type": "markdown",
   "metadata": {
    "slideshow": {
     "slide_type": "fragment"
    }
   },
   "source": [
    "Wrap lines with underscores or asterix symbols for italics.\n",
    "\n",
    "    _This is italicized_ or even *this* or *_ even this _*\n",
    "    \n",
    "_This is italicized_ or even *this* or *_ even this _*\n",
    "\n",
    "Wrap with two of them to make them bold.\n",
    "\n",
    "    __bold__ like **this**\n",
    "    \n",
    "__bold__ like **this**\n",
    "\n",
    "Mix them both to make sentences bold and italics\n",
    "\n",
    "    __*bold and italics*__\n",
    "    \n",
    "__*bold and italics*__"
   ]
  },
  {
   "cell_type": "markdown",
   "metadata": {
    "slideshow": {
     "slide_type": "fragment"
    }
   },
   "source": [
    "# Lists\n",
    "----\n",
    "\n",
    "You can make lists by simply adding a * on the first line. For numbered lists, use numbers!\n",
    "\n",
    "    * item 1\n",
    "    * item 2\n",
    "    \n",
    "* item 1\n",
    "* item 2\n",
    "\n",
    "        2. item 1\n",
    "          * subitem\n",
    "            * subsubitem\n",
    "        2. item 2\n",
    "        4. item 3\n",
    "    \n",
    "    \n",
    "1. item 1\n",
    "  * subitem\n",
    "    * subsubitem\n",
    "2. item 2\n",
    "4. item 3"
   ]
  },
  {
   "cell_type": "markdown",
   "metadata": {
    "slideshow": {
     "slide_type": "subslide"
    }
   },
   "source": [
    "# Syntax Highlights for program snippets in Documentation\n",
    "---\n",
    "\n",
    "\n",
    "To write python or other language codes, use the following notation\n",
    "\n",
    "    ```(language name)\n",
    "        codes\n",
    "    ```\n"
   ]
  },
  {
   "cell_type": "markdown",
   "metadata": {
    "slideshow": {
     "slide_type": "fragment"
    }
   },
   "source": [
    "eg:\n",
    "\n",
    "    ```python\n",
    "     for i in range(0, n):\n",
    "         b += i\n",
    "    ```\n",
    "\n",
    "becomes\n",
    "\n",
    "```python\n",
    "for i in range(0, n):\n",
    "    b += i\n",
    "```\n",
    "\n",
    "or\n",
    "    ```fortran\n",
    "    subroutine foo()\n",
    "        print *, 'test'\n",
    "    end subroutine\n",
    "    ```\n",
    "    \n",
    "```fortran\n",
    "    subroutine foo()\n",
    "        print *, 'test'\n",
    "    end subroutine\n",
    "```\n",
    "\n",
    "or\n",
    "    ```c\n",
    "    void main() {\n",
    "        printf(\"Hello World\");\n",
    "    }\n",
    "    ```\n",
    "\n",
    "```c\n",
    "    void main() {\n",
    "        printf(\"Hello World\");\n",
    "    }\n",
    "```\n",
    "\n",
    "Not specifying the language will not give syntax highlighting\n",
    "    ```\n",
    "    void main() {\n",
    "        printf(\"Hello World\");\n",
    "    }\n",
    "    ```\n",
    "\n",
    "```\n",
    "    void main() {\n",
    "        printf(\"Hello World\");\n",
    "    }\n",
    "```"
   ]
  },
  {
   "cell_type": "markdown",
   "metadata": {
    "slideshow": {
     "slide_type": "subslide"
    }
   },
   "source": [
    "# Quotes, LaTeX symbols and Links\n",
    "---\n"
   ]
  },
  {
   "cell_type": "markdown",
   "metadata": {
    "slideshow": {
     "slide_type": "fragment"
    }
   },
   "source": [
    "You can add quotes by using the greater than symbol:\n",
    "    > this is a quote\n",
    "    \n",
    "    while this is not\n",
    "    \n",
    "> this is a quote\n",
    "\n",
    "while this is not"
   ]
  },
  {
   "cell_type": "markdown",
   "metadata": {
    "slideshow": {
     "slide_type": "fragment"
    }
   },
   "source": [
    "Adding a link is really easy as well!\n",
    "\n",
    "    [Title](http://this.is.a.link.com)\n",
    "    \n",
    "[Title](http://this.is.a.link.com)\n",
    "\n",
    "or for a sensible example\n",
    "    \n",
    "    [Google](http://google.com)\n",
    "    \n",
    "[Google](http://google.com)"
   ]
  },
  {
   "cell_type": "markdown",
   "metadata": {
    "slideshow": {
     "slide_type": "fragment"
    }
   },
   "source": [
    "You can add pictures, youtube videos etc.,\n",
    "\n",
    "Use these lines in one of the cells to enable access images\n",
    "```python\n",
    "from IPython.display import HTML\n",
    "from IPython.display import Image\n",
    "```"
   ]
  },
  {
   "cell_type": "markdown",
   "metadata": {
    "slideshow": {
     "slide_type": "fragment"
    }
   },
   "source": [
    "# LaTeX notations can be used\n",
    "---\n",
    "\n",
    "This is for including scientific and mathematical notations\n",
    "\n",
    "Just add latex commands within dollar signs\n",
    "\n",
    "    $\\int_a^b f(x)dx$\n",
    "    \n",
    "becomes\n",
    "$\\int_a^b f(x)dx$"
   ]
  },
  {
   "cell_type": "markdown",
   "metadata": {
    "slideshow": {
     "slide_type": "fragment"
    }
   },
   "source": [
    "To enable the import of Images, use ```Image``` function. For instance\n",
    "\n",
    "```python\n",
    "Image(filename='images/IISc_logo.jpg',width=200,height=200) \n",
    "```\n",
    "\n",
    "And your image pops up like this"
   ]
  },
  {
   "cell_type": "code",
   "execution_count": 33,
   "metadata": {
    "slideshow": {
     "slide_type": "fragment"
    }
   },
   "outputs": [
    {
     "data": {
      "image/jpeg": "[encoded data removed]",
      "text/plain": [
       "<IPython.core.display.Image object>"
      ]
     },
     "execution_count": 33,
     "metadata": {
      "image/jpeg": {
       "height": 200,
       "width": 200
      }
     },
     "output_type": "execute_result"
    }
   ],
   "source": [
    "Image(filename='images/IISc_logo.jpg',width=200,height=200)"
   ]
  },
  {
   "cell_type": "markdown",
   "metadata": {
    "slideshow": {
     "slide_type": "slide"
    }
   },
   "source": [
    "# To make a slide show\n",
    "---\n",
    "\n",
    "* Use the documentation skills nicely and effectively.\n",
    "* Set the top cell toolbar to Slideshow option, thereby enabling it.\n",
    "* While typing the contents, set the slide type near the right end of the cells to\n",
    "    * Slide (Major Sections in the Presentation)\n",
    "    * Sub-Slide (Subsections for Sections)\n",
    "    * Skip (To avoid slides in presentation)\n",
    "    * Fragment (To enable point-by-point transition)\n",
    "    * None (No specific format. Follows Fragment)\n",
    "    \n",
    "Jupyter notebook (Earlier known as IPython notebook) enables a 2D presentation instead of 1D presentation."
   ]
  },
  {
   "cell_type": "markdown",
   "metadata": {
    "slideshow": {
     "slide_type": "fragment"
    }
   },
   "source": [
    "For More Details, checkout http://www.damian.oquanta.info/ for details and expansions in advanced and basic queries in Jupyter (earlier IPython) notebooks!"
   ]
  },
  {
   "cell_type": "markdown",
   "metadata": {
    "slideshow": {
     "slide_type": "fragment"
    }
   },
   "source": [
    "# To get a presentation\n",
    "---\n",
    "\n",
    "To make a presentation, type\n",
    "\n",
    "    jupyter nbconvert notebookname.ipynb --to slides\n",
    "    \n",
    "You will get an embedded HTML file.\n",
    "\n",
    "To enable proper presentation with transitions, type\n",
    "\n",
    "    jupyter nbconvert notebookname.ipynb --to slides --post serve"
   ]
  },
  {
   "cell_type": "markdown",
   "metadata": {
    "slideshow": {
     "slide_type": "fragment"
    }
   },
   "source": [
    "You may have to install mathjax and several other libraries to get a presentation. But, it is not difficult.\n",
    "\n",
    "**When working offline, sometimes the slide transitions do not work well in because the required JavaScript files may not be available. Jupyter notebooks use \"reveal.js\" - a collection of javascripts, CSS and HTML files for the format and transition animations to work. There is a quickfix for this. If really interested in the presentations, check that out!**"
   ]
  },
  {
   "cell_type": "markdown",
   "metadata": {
    "slideshow": {
     "slide_type": "slide"
    }
   },
   "source": [
    "# About Cython ...\n",
    "---\n",
    "\n",
    "It is a combination of Python and C. This methodology can make you write a few more lines of codes to your python script to make it run as fast as a C code!\n",
    "\n",
    "This is worth experimenting! It is quite easy, but development work is hard.\n",
    "\n",
    "* Write a Python code with a \\*.pyx format\n",
    "* Make corrections to the code based on some rules that make the Python code look like C.\n",
    "* Create a file called setup.py with a few cython library commands to take this \\*.pyx file and convert it into a python file and later a shared-object file/Dynamically Linked Library.\n",
    "* Import it inside python scripts as just like a regular module and use them!"
   ]
  },
  {
   "cell_type": "markdown",
   "metadata": {
    "slideshow": {
     "slide_type": "slide"
    }
   },
   "source": [
    "# f2py\n",
    "---\n",
    "\n",
    "Invoking Fortran procedures (functions and subroutines) inside python.\n",
    "\n",
    "Used for making certain tedious operations passed to fortran to enable speed, but retain python to have an overall control.\n",
    "\n",
    "A nice tool to combine Speed (Fortran) and Simplicity (Python)."
   ]
  },
  {
   "cell_type": "markdown",
   "metadata": {
    "slideshow": {
     "slide_type": "fragment"
    }
   },
   "source": [
    "## How to make it?\n",
    "---\n",
    "\n",
    "* Write a fortran file having all subroutines and modules.\n",
    "* Compile it using f2py to get a shared object\n",
    "* Import it as a module in python\n",
    "* Use it like a regular python class/function/object"
   ]
  },
  {
   "cell_type": "markdown",
   "metadata": {
    "slideshow": {
     "slide_type": "slide"
    }
   },
   "source": [
    "# Cbindings\n",
    "\n",
    "Linking fortran and python by the usage of data extensions available in C programming.\n",
    "\n",
    "* Under the hood, Python has a few C programming tools\n",
    "* Newer versions of Fortran (I guess from Fortran 90) have a few definitions of C for linking\n",
    "* Write a regular Fortran program and make modifications using Cbindings\n",
    "* Define function definitions and data types for the fortran functions/subroutines inside python\n",
    "* Make a shared object out of Fortran and import it as a module inside python\n",
    "* Use the module just like a regular module!"
   ]
  },
  {
   "cell_type": "markdown",
   "metadata": {
    "slideshow": {
     "slide_type": "slide"
    }
   },
   "source": [
    "## Weave\n",
    "\n",
    "**This Feature is Deprecated! Not available in Python 3 anymore! **\n",
    "\n",
    "An elegant way to define C functions inside python and make an equivalent superfast python function.\n",
    "\n",
    "* Define a python function body with the argument list\n",
    "* Define a string variable and inside the string value, write the entire C code with a few adjustments\n",
    "* Call the weave.inline method and pass the code and the argument list - that is it!\n",
    "* The python function will run like C"
   ]
  },
  {
   "cell_type": "markdown",
   "metadata": {
    "slideshow": {
     "slide_type": "slide"
    }
   },
   "source": [
    "## Numba\n",
    "\n",
    "This module is for speeding-up python files without any C, C++, Fortran tools. The resulting code runs at speeds comparable to that of C, C++ and Fortran.\n",
    "\n",
    "* Import jit from numba\n",
    "* Define a regular python function\n",
    "* Add a decorator on top of it\n",
    "\n",
    "It is the easiest way so far!"
   ]
  },
  {
   "cell_type": "markdown",
   "metadata": {
    "slideshow": {
     "slide_type": "slide"
    }
   },
   "source": [
    "## MPI4PY\n",
    "\n",
    "Use Message Passing Interface inside Python. Used for scaling Python codes in workstations and super computers for parallel programming!\n",
    "\n",
    "Python 2 and 3 Compatible!\n",
    "\n",
    "Recommended for people interested in parallel programming!"
   ]
  },
  {
   "cell_type": "markdown",
   "metadata": {
    "slideshow": {
     "slide_type": "slide"
    }
   },
   "source": [
    "## About Anaconda Cloud\n",
    "\n",
    "Web-based Python environment and storage facility. https://anaconda.org/\n",
    "\n",
    "Online python terminal + IPython notebook + shell terminal + environment + Cloud support!\n",
    "\n",
    "Worth experimenting!"
   ]
  },
  {
   "cell_type": "markdown",
   "metadata": {
    "slideshow": {
     "slide_type": "slide"
    }
   },
   "source": [
    "## Where do you stand?\n",
    "---\n",
    "\n",
    "* Some substantial familiarity with the Language\n",
    "* With practice, experience and exploration (must), better understanding will be possible\n",
    "* (Hopefully) you will be confident to apply all this into your work in a few weeks time\n",
    "\n",
    "You may have to learn other skills like (Depends on the case)\n",
    "\n",
    "* Shell programming\n",
    "* Operations in Linux/Unix\n",
    "* Makefile\n",
    "* LaTeX\n",
    "* Other programming languages\n",
    "* Version Controls \n",
    "    * eg: git, svn, mercurial, bitbucket\n",
    "\n",
    "These are subjective and varies with individual need!"
   ]
  },
  {
   "cell_type": "markdown",
   "metadata": {
    "slideshow": {
     "slide_type": "slide"
    }
   },
   "source": [
    "## Other interesting packages\n",
    "\n",
    "* Pandas - for data analysis\n",
    "* Iris - Reading NetCDF data and Plotting\n",
    "* CDAT - Atmospheric/Oceanic Science related plotting\n",
    "* Cartopy - Alternative for Basemap, data visualization on maps\n",
    "* MayaVI - 3D visualization library, also a separate software\n",
    "* Joblib, XRay - for handling netcdf files easily\n",
    "* Django, Flask - web framework development\n",
    "* scikit - machine learning\n",
    "* pycuda - GPU parallel programming\n",
    "* seaborn - statistical plotting, visualization, data analysis\n",
    "* windspharm - using spherical harmonics for calculating divergence, vorticity etc.,\n",
    "* rpy - use R programming libraries in Python\n",
    "* PyQT, Tkinter, PyGTK - GUI libraries for making plots, apps, software\n",
    "\n",
    "The list is endless! Dive in and experiment it out!"
   ]
  },
  {
   "cell_type": "markdown",
   "metadata": {
    "slideshow": {
     "slide_type": "slide"
    }
   },
   "source": [
    "## PEP8 conventions\n",
    "\n",
    "**What is it?**\n",
    "\n",
    "* Python Extension Protocol Version 8,\n",
    "* A set of programming syntax standards for writing code, naming variables etc.,\n",
    "* One of many conventions and guidelines while writing code; an attempt to standardize the coding styles,\n",
    "* Recommended for people writing projects to have the \"same\" programming syntax and style in all the codes,\n",
    "* **If contributing the code to public, following a guideline standard is highly recommended**,\n",
    "\n",
    "**Usage of such standards is not compulsory. Rather, it is a suggestion. One can deviate from PEP8. However, for readability, and consistency, it is recommended to stick to a guideline standard that is either suggested (like PEP8) or developed manually**\n"
   ]
  },
  {
   "cell_type": "markdown",
   "metadata": {
    "slideshow": {
     "slide_type": "slide"
    }
   },
   "source": [
    "## \"The Zen of Python\"\n",
    "\n",
    "* A few things to keep in mind while writing programs,\n",
    "* Not hard and fast, but definitely worth keeping in mind while doing a lot of programming,"
   ]
  },
  {
   "cell_type": "code",
   "execution_count": 34,
   "metadata": {
    "slideshow": {
     "slide_type": "fragment"
    }
   },
   "outputs": [
    {
     "name": "stdout",
     "output_type": "stream",
     "text": [
      "The Zen of Python, by Tim Peters\n",
      "\n",
      "Beautiful is better than ugly.\n",
      "Explicit is better than implicit.\n",
      "Simple is better than complex.\n",
      "Complex is better than complicated.\n",
      "Flat is better than nested.\n",
      "Sparse is better than dense.\n",
      "Readability counts.\n",
      "Special cases aren't special enough to break the rules.\n",
      "Although practicality beats purity.\n",
      "Errors should never pass silently.\n",
      "Unless explicitly silenced.\n",
      "In the face of ambiguity, refuse the temptation to guess.\n",
      "There should be one-- and preferably only one --obvious way to do it.\n",
      "Although that way may not be obvious at first unless you're Dutch.\n",
      "Now is better than never.\n",
      "Although never is often better than *right* now.\n",
      "If the implementation is hard to explain, it's a bad idea.\n",
      "If the implementation is easy to explain, it may be a good idea.\n",
      "Namespaces are one honking great idea -- let's do more of those!\n"
     ]
    }
   ],
   "source": [
    "import this"
   ]
  },
  {
   "cell_type": "markdown",
   "metadata": {
    "slideshow": {
     "slide_type": "slide"
    }
   },
   "source": [
    "# Important Links\n",
    "---\n",
    "\n",
    "http://faculty.washington.edu/rjl/uwhpsc-coursera/\n",
    "\n",
    "This is a famous Coursera Course on High Performance Computing (Fortran, Git, Bitbucket, Python, OpenMP, MPI and some Advanced Mathematical Programming).\n",
    "\n",
    "Consolidated resources Collection:\n",
    "\n",
    "[One individual collection](https://python.zeef.com/luis.solis)\n",
    "\n",
    "[StackExchange Answer for Python Resources](http://programmers.stackexchange.com/questions/12189/how-do-i-learn-python-from-zero-to-web-development)\n",
    "\n",
    "[Learn Python the Hard Way](http://learnpythonthehardway.org/book/)\n",
    "\n",
    "Moreoever, the documentations from the following webpages are useful immensely!\n",
    "\n",
    "* Scipy\n",
    "* Numpy\n",
    "* Matplotlib\n",
    "* Anaconda Cloud (earlier Wakari) (Online Python Terminal and IPython notebook)\n",
    "* Sympy\n",
    "* Stackexchange (Best Source Ever!)\n",
    "* Conda\n",
    "* Enthought\n",
    "\n",
    "Type in these names in google and you will get enough information\n",
    "\n",
    "Other sources:\n",
    "\n",
    "[Conda Documentation](http://conda.pydata.org/docs/)\n",
    "\n",
    "[IPython/Jupyter notebook shortcuts](http://johnlaudun.org/20131228-ipython-notebook-keyboard-shortcuts/)\n",
    "\n",
    "[Jupyter Documentation](http://jupyter.readthedocs.io/en/latest/index.html)\n",
    "\n",
    "[Jupyter Website](http://jupyter.org/)\n",
    "\n",
    "[Matplotlib Examples - private link](http://www.labri.fr/perso/nrougier/teaching/matplotlib/matplotlib.html)\n",
    "\n",
    "[Comparision between Python-NumPy-SciPy](http://technicaldiscovery.blogspot.in/2011/06/speeding-up-python-numpy-cython-and.html)\n"
   ]
  },
  {
   "cell_type": "markdown",
   "metadata": {
    "slideshow": {
     "slide_type": "slide"
    }
   },
   "source": [
    "# Any Questions?"
   ]
  }
 ],
 "metadata": {
  "anaconda-cloud": {},
  "celltoolbar": "Slideshow",
  "kernelspec": {
   "display_name": "Python 3",
   "language": "python",
   "name": "python3"
  },
  "language_info": {
   "codemirror_mode": {
    "name": "ipython",
    "version": 3
   },
   "file_extension": ".py",
   "mimetype": "text/x-python",
   "name": "python",
   "nbconvert_exporter": "python",
   "pygments_lexer": "ipython3",
   "version": "3.6.1"
  }
 },
 "nbformat": 4,
 "nbformat_minor": 1
}
